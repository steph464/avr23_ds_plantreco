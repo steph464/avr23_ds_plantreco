{
 "cells": [
  {
   "cell_type": "code",
   "execution_count": 1,
   "id": "91cb1602",
   "metadata": {},
   "outputs": [],
   "source": [
    "import pandas as pd \n",
    "import matplotlib.pyplot as plt \n",
    "\n",
    "data = pd.read_csv('data_no_bg.csv')"
   ]
  },
  {
   "cell_type": "code",
   "execution_count": 2,
   "id": "4e0552b8",
   "metadata": {},
   "outputs": [
    {
     "data": {
      "text/html": [
       "<div>\n",
       "<style scoped>\n",
       "    .dataframe tbody tr th:only-of-type {\n",
       "        vertical-align: middle;\n",
       "    }\n",
       "\n",
       "    .dataframe tbody tr th {\n",
       "        vertical-align: top;\n",
       "    }\n",
       "\n",
       "    .dataframe thead th {\n",
       "        text-align: right;\n",
       "    }\n",
       "</style>\n",
       "<table border=\"1\" class=\"dataframe\">\n",
       "  <thead>\n",
       "    <tr style=\"text-align: right;\">\n",
       "      <th></th>\n",
       "      <th>img_path</th>\n",
       "      <th>espece</th>\n",
       "      <th>malade</th>\n",
       "      <th>nom_maladie</th>\n",
       "    </tr>\n",
       "  </thead>\n",
       "  <tbody>\n",
       "    <tr>\n",
       "      <th>0</th>\n",
       "      <td>C:\\Users\\aissa\\Desktop\\Projet\\dataset_remove_b...</td>\n",
       "      <td>Apple</td>\n",
       "      <td>True</td>\n",
       "      <td>Apple_scab</td>\n",
       "    </tr>\n",
       "    <tr>\n",
       "      <th>1</th>\n",
       "      <td>C:\\Users\\aissa\\Desktop\\Projet\\dataset_remove_b...</td>\n",
       "      <td>Apple</td>\n",
       "      <td>True</td>\n",
       "      <td>Apple_scab</td>\n",
       "    </tr>\n",
       "    <tr>\n",
       "      <th>2</th>\n",
       "      <td>C:\\Users\\aissa\\Desktop\\Projet\\dataset_remove_b...</td>\n",
       "      <td>Apple</td>\n",
       "      <td>True</td>\n",
       "      <td>Apple_scab</td>\n",
       "    </tr>\n",
       "    <tr>\n",
       "      <th>3</th>\n",
       "      <td>C:\\Users\\aissa\\Desktop\\Projet\\dataset_remove_b...</td>\n",
       "      <td>Apple</td>\n",
       "      <td>True</td>\n",
       "      <td>Apple_scab</td>\n",
       "    </tr>\n",
       "    <tr>\n",
       "      <th>4</th>\n",
       "      <td>C:\\Users\\aissa\\Desktop\\Projet\\dataset_remove_b...</td>\n",
       "      <td>Apple</td>\n",
       "      <td>True</td>\n",
       "      <td>Apple_scab</td>\n",
       "    </tr>\n",
       "  </tbody>\n",
       "</table>\n",
       "</div>"
      ],
      "text/plain": [
       "                                            img_path espece  malade  \\\n",
       "0  C:\\Users\\aissa\\Desktop\\Projet\\dataset_remove_b...  Apple    True   \n",
       "1  C:\\Users\\aissa\\Desktop\\Projet\\dataset_remove_b...  Apple    True   \n",
       "2  C:\\Users\\aissa\\Desktop\\Projet\\dataset_remove_b...  Apple    True   \n",
       "3  C:\\Users\\aissa\\Desktop\\Projet\\dataset_remove_b...  Apple    True   \n",
       "4  C:\\Users\\aissa\\Desktop\\Projet\\dataset_remove_b...  Apple    True   \n",
       "\n",
       "  nom_maladie  \n",
       "0  Apple_scab  \n",
       "1  Apple_scab  \n",
       "2  Apple_scab  \n",
       "3  Apple_scab  \n",
       "4  Apple_scab  "
      ]
     },
     "metadata": {},
     "output_type": "display_data"
    },
    {
     "name": "stdout",
     "output_type": "stream",
     "text": [
      "<class 'pandas.core.frame.DataFrame'>\n",
      "RangeIndex: 70295 entries, 0 to 70294\n",
      "Data columns (total 4 columns):\n",
      " #   Column       Non-Null Count  Dtype \n",
      "---  ------       --------------  ----- \n",
      " 0   img_path     70295 non-null  object\n",
      " 1   espece       70295 non-null  object\n",
      " 2   malade       70295 non-null  bool  \n",
      " 3   nom_maladie  48001 non-null  object\n",
      "dtypes: bool(1), object(3)\n",
      "memory usage: 1.7+ MB\n"
     ]
    },
    {
     "data": {
      "text/plain": [
       "None"
      ]
     },
     "metadata": {},
     "output_type": "display_data"
    },
    {
     "data": {
      "text/plain": [
       "14"
      ]
     },
     "metadata": {},
     "output_type": "display_data"
    },
    {
     "data": {
      "text/plain": [
       "' espèces : '"
      ]
     },
     "metadata": {},
     "output_type": "display_data"
    },
    {
     "data": {
      "text/plain": [
       "array(['Apple', 'Blueberry', 'Cherry_(including_sour)', 'Corn_(maize)',\n",
       "       'Grape', 'Orange', 'Peach', 'Pepper,_bell', 'Potato', 'Raspberry',\n",
       "       'Soybean', 'Squash', 'Strawberry', 'Tomato'], dtype=object)"
      ]
     },
     "metadata": {},
     "output_type": "display_data"
    },
    {
     "data": {
      "text/plain": [
       "21"
      ]
     },
     "metadata": {},
     "output_type": "display_data"
    },
    {
     "data": {
      "text/plain": [
       "' maladies : '"
      ]
     },
     "metadata": {},
     "output_type": "display_data"
    },
    {
     "data": {
      "text/plain": [
       "array(['Apple_scab', 'Black_rot', 'Cedar_apple_rust', nan,\n",
       "       'Powdery_mildew', 'Cercospora_leaf_spot Gray_leaf_spot',\n",
       "       'Common_rust_', 'Northern_Leaf_Blight', 'Esca_(Black_Measles)',\n",
       "       'Leaf_blight_(Isariopsis_Leaf_Spot)',\n",
       "       'Haunglongbing_(Citrus_greening)', 'Bacterial_spot',\n",
       "       'Early_blight', 'Late_blight', 'Leaf_scorch', 'Leaf_Mold',\n",
       "       'Septoria_leaf_spot', 'Spider_mites Two-spotted_spider_mite',\n",
       "       'Target_Spot', 'Tomato_mosaic_virus',\n",
       "       'Tomato_Yellow_Leaf_Curl_Virus'], dtype=object)"
      ]
     },
     "metadata": {},
     "output_type": "display_data"
    }
   ],
   "source": [
    "display(data.head())\n",
    "display(data.info())\n",
    "display(len(data.espece.unique()),' espèces : ', data.espece.unique())\n",
    "display(len(data.nom_maladie.unique()), ' maladies : ', data.nom_maladie.unique())"
   ]
  },
  {
   "cell_type": "code",
   "execution_count": 3,
   "id": "6e9152fd",
   "metadata": {},
   "outputs": [
    {
     "data": {
      "image/png": "[encoded data removed]",
      "text/plain": [
       "<Figure size 800x600 with 1 Axes>"
      ]
     },
     "metadata": {},
     "output_type": "display_data"
    }
   ],
   "source": [
    "import numpy as np\n",
    "import matplotlib.pyplot as plt\n",
    "\n",
    "counts = data['malade'].value_counts()\n",
    "\n",
    "num_colors = len(counts)\n",
    "colors = plt.cm.rainbow(np.linspace(0, 1, num_colors))\n",
    "\n",
    "plt.figure(figsize=(8, 6))\n",
    "counts.plot(kind='bar', color = colors)\n",
    "plt.title(\"Distribution des espèces\")\n",
    "plt.xlabel(\"Espèces\")\n",
    "plt.ylabel(\"Nombre d'occurrences\")\n",
    "plt.xticks(rotation=45)\n",
    "plt.show()"
   ]
  },
  {
   "cell_type": "markdown",
   "id": "64c8d407",
   "metadata": {},
   "source": [
    "## Rééchantillonnage : Undersampling"
   ]
  },
  {
   "cell_type": "code",
   "execution_count": 4,
   "id": "5b5d6f9b",
   "metadata": {},
   "outputs": [],
   "source": [
    "import cv2\n",
    "import numpy as np\n",
    "\n",
    "# Fonction qui extrait l'histogramme des images \n",
    "\n",
    "def extract_features(img):\n",
    "    hist = cv2.calcHist([img], [0, 1, 2], None, [8, 8, 8], [0, 256, 0, 256, 0, 256])\n",
    "    hist = cv2.normalize(hist, hist).flatten()\n",
    "    return hist\n",
    "\n",
    "X = []\n",
    "y = []\n",
    "\n",
    "for img_path, label in zip(data['img_path'], data['malade']):\n",
    "    img = cv2.imread(img_path)\n",
    "    features = extract_features(img)  \n",
    "    X.append(features)\n",
    "    y.append(label)\n",
    "\n",
    "X = np.array(X)\n",
    "y = np.array(y)"
   ]
  },
  {
   "cell_type": "code",
   "execution_count": 5,
   "id": "bbfaf5fa",
   "metadata": {},
   "outputs": [
    {
     "data": {
      "text/plain": [
       "'!pip install imblearn'"
      ]
     },
     "execution_count": 5,
     "metadata": {},
     "output_type": "execute_result"
    }
   ],
   "source": [
    "\"\"\"!pip install imblearn\"\"\""
   ]
  },
  {
   "cell_type": "code",
   "execution_count": 6,
   "id": "5ea02688",
   "metadata": {},
   "outputs": [],
   "source": [
    "# Undersampling\n",
    "\n",
    "from imblearn.under_sampling import RandomUnderSampler\n",
    "\n",
    "rUs = RandomUnderSampler()\n",
    "X_ru, y_ru = rUs.fit_resample(X, y)"
   ]
  },
  {
   "cell_type": "code",
   "execution_count": 7,
   "id": "6888d5f9",
   "metadata": {},
   "outputs": [
    {
     "data": {
      "image/png": "[encoded data removed]",
      "text/plain": [
       "<Figure size 640x480 with 1 Axes>"
      ]
     },
     "metadata": {},
     "output_type": "display_data"
    }
   ],
   "source": [
    "num_true = sum(y_ru)\n",
    "num_false = len(y_ru) - num_true\n",
    "\n",
    "labels = ['True', 'False']\n",
    "values = [num_true, num_false]\n",
    "\n",
    "plt.bar(labels, values)\n",
    "plt.xlabel('Classes')\n",
    "plt.ylabel('Nombre d\\'exemples')\n",
    "plt.title('Distribution des classes après l\\'undersampling')\n",
    "plt.show()"
   ]
  },
  {
   "cell_type": "markdown",
   "id": "9bacf510",
   "metadata": {},
   "source": [
    "## Création du modèle "
   ]
  },
  {
   "cell_type": "code",
   "execution_count": 8,
   "id": "2dad9ff7",
   "metadata": {},
   "outputs": [],
   "source": [
    "from sklearn.ensemble import RandomForestClassifier\n",
    "from sklearn.model_selection import train_test_split\n",
    "\n",
    "# Division des données en ensembles d'entraînement et de test\n",
    "X_train, X_test, y_train, y_test = train_test_split(X_ru, y_ru, test_size=0.2, random_state=42)\n",
    "\n",
    "# Instanciation du Random Forest\n",
    "rf = RandomForestClassifier(random_state=42)"
   ]
  },
  {
   "cell_type": "code",
   "execution_count": 9,
   "id": "7d5ad6fd",
   "metadata": {
    "scrolled": true
   },
   "outputs": [
    {
     "name": "stdout",
     "output_type": "stream",
     "text": [
      "Fitting 5 folds for each of 36 candidates, totalling 180 fits\n",
      "[CV 1/5; 1/36] START max_features=auto, min_samples_leaf=1, n_estimators=10.....\n"
     ]
    },
    {
     "name": "stderr",
     "output_type": "stream",
     "text": [
      "C:\\Users\\aissa\\anaconda3\\lib\\site-packages\\sklearn\\ensemble\\_forest.py:424: FutureWarning: `max_features='auto'` has been deprecated in 1.1 and will be removed in 1.3. To keep the past behaviour, explicitly set `max_features='sqrt'` or remove this parameter as it is also the default value for RandomForestClassifiers and ExtraTreesClassifiers.\n",
      "  warn(\n"
     ]
    },
    {
     "name": "stdout",
     "output_type": "stream",
     "text": [
      "[CV 1/5; 1/36] END max_features=auto, min_samples_leaf=1, n_estimators=10;, score=0.916 total time=   1.5s\n",
      "[CV 2/5; 1/36] START max_features=auto, min_samples_leaf=1, n_estimators=10.....\n"
     ]
    },
    {
     "name": "stderr",
     "output_type": "stream",
     "text": [
      "C:\\Users\\aissa\\anaconda3\\lib\\site-packages\\sklearn\\ensemble\\_forest.py:424: FutureWarning: `max_features='auto'` has been deprecated in 1.1 and will be removed in 1.3. To keep the past behaviour, explicitly set `max_features='sqrt'` or remove this parameter as it is also the default value for RandomForestClassifiers and ExtraTreesClassifiers.\n",
      "  warn(\n"
     ]
    },
    {
     "name": "stdout",
     "output_type": "stream",
     "text": [
      "[CV 2/5; 1/36] END max_features=auto, min_samples_leaf=1, n_estimators=10;, score=0.919 total time=   1.5s\n",
      "[CV 3/5; 1/36] START max_features=auto, min_samples_leaf=1, n_estimators=10.....\n"
     ]
    },
    {
     "name": "stderr",
     "output_type": "stream",
     "text": [
      "C:\\Users\\aissa\\anaconda3\\lib\\site-packages\\sklearn\\ensemble\\_forest.py:424: FutureWarning: `max_features='auto'` has been deprecated in 1.1 and will be removed in 1.3. To keep the past behaviour, explicitly set `max_features='sqrt'` or remove this parameter as it is also the default value for RandomForestClassifiers and ExtraTreesClassifiers.\n",
      "  warn(\n"
     ]
    },
    {
     "name": "stdout",
     "output_type": "stream",
     "text": [
      "[CV 3/5; 1/36] END max_features=auto, min_samples_leaf=1, n_estimators=10;, score=0.922 total time=   1.5s\n",
      "[CV 4/5; 1/36] START max_features=auto, min_samples_leaf=1, n_estimators=10.....\n"
     ]
    },
    {
     "name": "stderr",
     "output_type": "stream",
     "text": [
      "C:\\Users\\aissa\\anaconda3\\lib\\site-packages\\sklearn\\ensemble\\_forest.py:424: FutureWarning: `max_features='auto'` has been deprecated in 1.1 and will be removed in 1.3. To keep the past behaviour, explicitly set `max_features='sqrt'` or remove this parameter as it is also the default value for RandomForestClassifiers and ExtraTreesClassifiers.\n",
      "  warn(\n"
     ]
    },
    {
     "name": "stdout",
     "output_type": "stream",
     "text": [
      "[CV 4/5; 1/36] END max_features=auto, min_samples_leaf=1, n_estimators=10;, score=0.920 total time=   1.6s\n",
      "[CV 5/5; 1/36] START max_features=auto, min_samples_leaf=1, n_estimators=10.....\n"
     ]
    },
    {
     "name": "stderr",
     "output_type": "stream",
     "text": [
      "C:\\Users\\aissa\\anaconda3\\lib\\site-packages\\sklearn\\ensemble\\_forest.py:424: FutureWarning: `max_features='auto'` has been deprecated in 1.1 and will be removed in 1.3. To keep the past behaviour, explicitly set `max_features='sqrt'` or remove this parameter as it is also the default value for RandomForestClassifiers and ExtraTreesClassifiers.\n",
      "  warn(\n"
     ]
    },
    {
     "name": "stdout",
     "output_type": "stream",
     "text": [
      "[CV 5/5; 1/36] END max_features=auto, min_samples_leaf=1, n_estimators=10;, score=0.924 total time=   1.6s\n",
      "[CV 1/5; 2/36] START max_features=auto, min_samples_leaf=1, n_estimators=50.....\n"
     ]
    },
    {
     "name": "stderr",
     "output_type": "stream",
     "text": [
      "C:\\Users\\aissa\\anaconda3\\lib\\site-packages\\sklearn\\ensemble\\_forest.py:424: FutureWarning: `max_features='auto'` has been deprecated in 1.1 and will be removed in 1.3. To keep the past behaviour, explicitly set `max_features='sqrt'` or remove this parameter as it is also the default value for RandomForestClassifiers and ExtraTreesClassifiers.\n",
      "  warn(\n"
     ]
    },
    {
     "name": "stdout",
     "output_type": "stream",
     "text": [
      "[CV 1/5; 2/36] END max_features=auto, min_samples_leaf=1, n_estimators=50;, score=0.928 total time=   7.6s\n",
      "[CV 2/5; 2/36] START max_features=auto, min_samples_leaf=1, n_estimators=50.....\n"
     ]
    },
    {
     "name": "stderr",
     "output_type": "stream",
     "text": [
      "C:\\Users\\aissa\\anaconda3\\lib\\site-packages\\sklearn\\ensemble\\_forest.py:424: FutureWarning: `max_features='auto'` has been deprecated in 1.1 and will be removed in 1.3. To keep the past behaviour, explicitly set `max_features='sqrt'` or remove this parameter as it is also the default value for RandomForestClassifiers and ExtraTreesClassifiers.\n",
      "  warn(\n"
     ]
    },
    {
     "name": "stdout",
     "output_type": "stream",
     "text": [
      "[CV 2/5; 2/36] END max_features=auto, min_samples_leaf=1, n_estimators=50;, score=0.932 total time=   7.9s\n",
      "[CV 3/5; 2/36] START max_features=auto, min_samples_leaf=1, n_estimators=50.....\n"
     ]
    },
    {
     "name": "stderr",
     "output_type": "stream",
     "text": [
      "C:\\Users\\aissa\\anaconda3\\lib\\site-packages\\sklearn\\ensemble\\_forest.py:424: FutureWarning: `max_features='auto'` has been deprecated in 1.1 and will be removed in 1.3. To keep the past behaviour, explicitly set `max_features='sqrt'` or remove this parameter as it is also the default value for RandomForestClassifiers and ExtraTreesClassifiers.\n",
      "  warn(\n"
     ]
    },
    {
     "name": "stdout",
     "output_type": "stream",
     "text": [
      "[CV 3/5; 2/36] END max_features=auto, min_samples_leaf=1, n_estimators=50;, score=0.935 total time=   7.9s\n",
      "[CV 4/5; 2/36] START max_features=auto, min_samples_leaf=1, n_estimators=50.....\n"
     ]
    },
    {
     "name": "stderr",
     "output_type": "stream",
     "text": [
      "C:\\Users\\aissa\\anaconda3\\lib\\site-packages\\sklearn\\ensemble\\_forest.py:424: FutureWarning: `max_features='auto'` has been deprecated in 1.1 and will be removed in 1.3. To keep the past behaviour, explicitly set `max_features='sqrt'` or remove this parameter as it is also the default value for RandomForestClassifiers and ExtraTreesClassifiers.\n",
      "  warn(\n"
     ]
    },
    {
     "name": "stdout",
     "output_type": "stream",
     "text": [
      "[CV 4/5; 2/36] END max_features=auto, min_samples_leaf=1, n_estimators=50;, score=0.937 total time=   7.7s\n",
      "[CV 5/5; 2/36] START max_features=auto, min_samples_leaf=1, n_estimators=50.....\n"
     ]
    },
    {
     "name": "stderr",
     "output_type": "stream",
     "text": [
      "C:\\Users\\aissa\\anaconda3\\lib\\site-packages\\sklearn\\ensemble\\_forest.py:424: FutureWarning: `max_features='auto'` has been deprecated in 1.1 and will be removed in 1.3. To keep the past behaviour, explicitly set `max_features='sqrt'` or remove this parameter as it is also the default value for RandomForestClassifiers and ExtraTreesClassifiers.\n",
      "  warn(\n"
     ]
    },
    {
     "name": "stdout",
     "output_type": "stream",
     "text": [
      "[CV 5/5; 2/36] END max_features=auto, min_samples_leaf=1, n_estimators=50;, score=0.939 total time=   7.9s\n",
      "[CV 1/5; 3/36] START max_features=auto, min_samples_leaf=1, n_estimators=100....\n"
     ]
    },
    {
     "name": "stderr",
     "output_type": "stream",
     "text": [
      "C:\\Users\\aissa\\anaconda3\\lib\\site-packages\\sklearn\\ensemble\\_forest.py:424: FutureWarning: `max_features='auto'` has been deprecated in 1.1 and will be removed in 1.3. To keep the past behaviour, explicitly set `max_features='sqrt'` or remove this parameter as it is also the default value for RandomForestClassifiers and ExtraTreesClassifiers.\n",
      "  warn(\n"
     ]
    },
    {
     "name": "stdout",
     "output_type": "stream",
     "text": [
      "[CV 1/5; 3/36] END max_features=auto, min_samples_leaf=1, n_estimators=100;, score=0.930 total time=  15.5s\n",
      "[CV 2/5; 3/36] START max_features=auto, min_samples_leaf=1, n_estimators=100....\n"
     ]
    },
    {
     "name": "stderr",
     "output_type": "stream",
     "text": [
      "C:\\Users\\aissa\\anaconda3\\lib\\site-packages\\sklearn\\ensemble\\_forest.py:424: FutureWarning: `max_features='auto'` has been deprecated in 1.1 and will be removed in 1.3. To keep the past behaviour, explicitly set `max_features='sqrt'` or remove this parameter as it is also the default value for RandomForestClassifiers and ExtraTreesClassifiers.\n",
      "  warn(\n"
     ]
    },
    {
     "name": "stdout",
     "output_type": "stream",
     "text": [
      "[CV 2/5; 3/36] END max_features=auto, min_samples_leaf=1, n_estimators=100;, score=0.936 total time=  15.3s\n",
      "[CV 3/5; 3/36] START max_features=auto, min_samples_leaf=1, n_estimators=100....\n"
     ]
    },
    {
     "name": "stderr",
     "output_type": "stream",
     "text": [
      "C:\\Users\\aissa\\anaconda3\\lib\\site-packages\\sklearn\\ensemble\\_forest.py:424: FutureWarning: `max_features='auto'` has been deprecated in 1.1 and will be removed in 1.3. To keep the past behaviour, explicitly set `max_features='sqrt'` or remove this parameter as it is also the default value for RandomForestClassifiers and ExtraTreesClassifiers.\n",
      "  warn(\n"
     ]
    },
    {
     "name": "stdout",
     "output_type": "stream",
     "text": [
      "[CV 3/5; 3/36] END max_features=auto, min_samples_leaf=1, n_estimators=100;, score=0.940 total time=  15.4s\n",
      "[CV 4/5; 3/36] START max_features=auto, min_samples_leaf=1, n_estimators=100....\n"
     ]
    },
    {
     "name": "stderr",
     "output_type": "stream",
     "text": [
      "C:\\Users\\aissa\\anaconda3\\lib\\site-packages\\sklearn\\ensemble\\_forest.py:424: FutureWarning: `max_features='auto'` has been deprecated in 1.1 and will be removed in 1.3. To keep the past behaviour, explicitly set `max_features='sqrt'` or remove this parameter as it is also the default value for RandomForestClassifiers and ExtraTreesClassifiers.\n",
      "  warn(\n"
     ]
    },
    {
     "name": "stdout",
     "output_type": "stream",
     "text": [
      "[CV 4/5; 3/36] END max_features=auto, min_samples_leaf=1, n_estimators=100;, score=0.939 total time=  15.4s\n",
      "[CV 5/5; 3/36] START max_features=auto, min_samples_leaf=1, n_estimators=100....\n"
     ]
    },
    {
     "name": "stderr",
     "output_type": "stream",
     "text": [
      "C:\\Users\\aissa\\anaconda3\\lib\\site-packages\\sklearn\\ensemble\\_forest.py:424: FutureWarning: `max_features='auto'` has been deprecated in 1.1 and will be removed in 1.3. To keep the past behaviour, explicitly set `max_features='sqrt'` or remove this parameter as it is also the default value for RandomForestClassifiers and ExtraTreesClassifiers.\n",
      "  warn(\n"
     ]
    },
    {
     "name": "stdout",
     "output_type": "stream",
     "text": [
      "[CV 5/5; 3/36] END max_features=auto, min_samples_leaf=1, n_estimators=100;, score=0.938 total time=  15.4s\n",
      "[CV 1/5; 4/36] START max_features=auto, min_samples_leaf=1, n_estimators=250....\n"
     ]
    },
    {
     "name": "stderr",
     "output_type": "stream",
     "text": [
      "C:\\Users\\aissa\\anaconda3\\lib\\site-packages\\sklearn\\ensemble\\_forest.py:424: FutureWarning: `max_features='auto'` has been deprecated in 1.1 and will be removed in 1.3. To keep the past behaviour, explicitly set `max_features='sqrt'` or remove this parameter as it is also the default value for RandomForestClassifiers and ExtraTreesClassifiers.\n",
      "  warn(\n"
     ]
    },
    {
     "name": "stdout",
     "output_type": "stream",
     "text": [
      "[CV 1/5; 4/36] END max_features=auto, min_samples_leaf=1, n_estimators=250;, score=0.931 total time=  36.8s\n",
      "[CV 2/5; 4/36] START max_features=auto, min_samples_leaf=1, n_estimators=250....\n"
     ]
    },
    {
     "name": "stderr",
     "output_type": "stream",
     "text": [
      "C:\\Users\\aissa\\anaconda3\\lib\\site-packages\\sklearn\\ensemble\\_forest.py:424: FutureWarning: `max_features='auto'` has been deprecated in 1.1 and will be removed in 1.3. To keep the past behaviour, explicitly set `max_features='sqrt'` or remove this parameter as it is also the default value for RandomForestClassifiers and ExtraTreesClassifiers.\n",
      "  warn(\n"
     ]
    },
    {
     "name": "stdout",
     "output_type": "stream",
     "text": [
      "[CV 2/5; 4/36] END max_features=auto, min_samples_leaf=1, n_estimators=250;, score=0.937 total time=  36.3s\n",
      "[CV 3/5; 4/36] START max_features=auto, min_samples_leaf=1, n_estimators=250....\n"
     ]
    },
    {
     "name": "stderr",
     "output_type": "stream",
     "text": [
      "C:\\Users\\aissa\\anaconda3\\lib\\site-packages\\sklearn\\ensemble\\_forest.py:424: FutureWarning: `max_features='auto'` has been deprecated in 1.1 and will be removed in 1.3. To keep the past behaviour, explicitly set `max_features='sqrt'` or remove this parameter as it is also the default value for RandomForestClassifiers and ExtraTreesClassifiers.\n",
      "  warn(\n"
     ]
    },
    {
     "name": "stdout",
     "output_type": "stream",
     "text": [
      "[CV 3/5; 4/36] END max_features=auto, min_samples_leaf=1, n_estimators=250;, score=0.942 total time=  36.6s\n",
      "[CV 4/5; 4/36] START max_features=auto, min_samples_leaf=1, n_estimators=250....\n"
     ]
    },
    {
     "name": "stderr",
     "output_type": "stream",
     "text": [
      "C:\\Users\\aissa\\anaconda3\\lib\\site-packages\\sklearn\\ensemble\\_forest.py:424: FutureWarning: `max_features='auto'` has been deprecated in 1.1 and will be removed in 1.3. To keep the past behaviour, explicitly set `max_features='sqrt'` or remove this parameter as it is also the default value for RandomForestClassifiers and ExtraTreesClassifiers.\n",
      "  warn(\n"
     ]
    },
    {
     "name": "stdout",
     "output_type": "stream",
     "text": [
      "[CV 4/5; 4/36] END max_features=auto, min_samples_leaf=1, n_estimators=250;, score=0.940 total time=  36.5s\n",
      "[CV 5/5; 4/36] START max_features=auto, min_samples_leaf=1, n_estimators=250....\n"
     ]
    },
    {
     "name": "stderr",
     "output_type": "stream",
     "text": [
      "C:\\Users\\aissa\\anaconda3\\lib\\site-packages\\sklearn\\ensemble\\_forest.py:424: FutureWarning: `max_features='auto'` has been deprecated in 1.1 and will be removed in 1.3. To keep the past behaviour, explicitly set `max_features='sqrt'` or remove this parameter as it is also the default value for RandomForestClassifiers and ExtraTreesClassifiers.\n",
      "  warn(\n"
     ]
    },
    {
     "name": "stdout",
     "output_type": "stream",
     "text": [
      "[CV 5/5; 4/36] END max_features=auto, min_samples_leaf=1, n_estimators=250;, score=0.941 total time=  36.6s\n",
      "[CV 1/5; 5/36] START max_features=auto, min_samples_leaf=3, n_estimators=10.....\n"
     ]
    },
    {
     "name": "stderr",
     "output_type": "stream",
     "text": [
      "C:\\Users\\aissa\\anaconda3\\lib\\site-packages\\sklearn\\ensemble\\_forest.py:424: FutureWarning: `max_features='auto'` has been deprecated in 1.1 and will be removed in 1.3. To keep the past behaviour, explicitly set `max_features='sqrt'` or remove this parameter as it is also the default value for RandomForestClassifiers and ExtraTreesClassifiers.\n",
      "  warn(\n"
     ]
    },
    {
     "name": "stdout",
     "output_type": "stream",
     "text": [
      "[CV 1/5; 5/36] END max_features=auto, min_samples_leaf=3, n_estimators=10;, score=0.911 total time=   1.3s\n",
      "[CV 2/5; 5/36] START max_features=auto, min_samples_leaf=3, n_estimators=10.....\n"
     ]
    },
    {
     "name": "stderr",
     "output_type": "stream",
     "text": [
      "C:\\Users\\aissa\\anaconda3\\lib\\site-packages\\sklearn\\ensemble\\_forest.py:424: FutureWarning: `max_features='auto'` has been deprecated in 1.1 and will be removed in 1.3. To keep the past behaviour, explicitly set `max_features='sqrt'` or remove this parameter as it is also the default value for RandomForestClassifiers and ExtraTreesClassifiers.\n",
      "  warn(\n"
     ]
    },
    {
     "name": "stdout",
     "output_type": "stream",
     "text": [
      "[CV 2/5; 5/36] END max_features=auto, min_samples_leaf=3, n_estimators=10;, score=0.919 total time=   1.5s\n",
      "[CV 3/5; 5/36] START max_features=auto, min_samples_leaf=3, n_estimators=10.....\n"
     ]
    },
    {
     "name": "stderr",
     "output_type": "stream",
     "text": [
      "C:\\Users\\aissa\\anaconda3\\lib\\site-packages\\sklearn\\ensemble\\_forest.py:424: FutureWarning: `max_features='auto'` has been deprecated in 1.1 and will be removed in 1.3. To keep the past behaviour, explicitly set `max_features='sqrt'` or remove this parameter as it is also the default value for RandomForestClassifiers and ExtraTreesClassifiers.\n",
      "  warn(\n"
     ]
    },
    {
     "name": "stdout",
     "output_type": "stream",
     "text": [
      "[CV 3/5; 5/36] END max_features=auto, min_samples_leaf=3, n_estimators=10;, score=0.918 total time=   1.4s\n",
      "[CV 4/5; 5/36] START max_features=auto, min_samples_leaf=3, n_estimators=10.....\n"
     ]
    },
    {
     "name": "stderr",
     "output_type": "stream",
     "text": [
      "C:\\Users\\aissa\\anaconda3\\lib\\site-packages\\sklearn\\ensemble\\_forest.py:424: FutureWarning: `max_features='auto'` has been deprecated in 1.1 and will be removed in 1.3. To keep the past behaviour, explicitly set `max_features='sqrt'` or remove this parameter as it is also the default value for RandomForestClassifiers and ExtraTreesClassifiers.\n",
      "  warn(\n"
     ]
    },
    {
     "name": "stdout",
     "output_type": "stream",
     "text": [
      "[CV 4/5; 5/36] END max_features=auto, min_samples_leaf=3, n_estimators=10;, score=0.922 total time=   1.3s\n",
      "[CV 5/5; 5/36] START max_features=auto, min_samples_leaf=3, n_estimators=10.....\n"
     ]
    },
    {
     "name": "stderr",
     "output_type": "stream",
     "text": [
      "C:\\Users\\aissa\\anaconda3\\lib\\site-packages\\sklearn\\ensemble\\_forest.py:424: FutureWarning: `max_features='auto'` has been deprecated in 1.1 and will be removed in 1.3. To keep the past behaviour, explicitly set `max_features='sqrt'` or remove this parameter as it is also the default value for RandomForestClassifiers and ExtraTreesClassifiers.\n",
      "  warn(\n"
     ]
    },
    {
     "name": "stdout",
     "output_type": "stream",
     "text": [
      "[CV 5/5; 5/36] END max_features=auto, min_samples_leaf=3, n_estimators=10;, score=0.922 total time=   1.3s\n",
      "[CV 1/5; 6/36] START max_features=auto, min_samples_leaf=3, n_estimators=50.....\n"
     ]
    },
    {
     "name": "stderr",
     "output_type": "stream",
     "text": [
      "C:\\Users\\aissa\\anaconda3\\lib\\site-packages\\sklearn\\ensemble\\_forest.py:424: FutureWarning: `max_features='auto'` has been deprecated in 1.1 and will be removed in 1.3. To keep the past behaviour, explicitly set `max_features='sqrt'` or remove this parameter as it is also the default value for RandomForestClassifiers and ExtraTreesClassifiers.\n",
      "  warn(\n"
     ]
    },
    {
     "name": "stdout",
     "output_type": "stream",
     "text": [
      "[CV 1/5; 6/36] END max_features=auto, min_samples_leaf=3, n_estimators=50;, score=0.923 total time=   6.8s\n",
      "[CV 2/5; 6/36] START max_features=auto, min_samples_leaf=3, n_estimators=50.....\n"
     ]
    },
    {
     "name": "stderr",
     "output_type": "stream",
     "text": [
      "C:\\Users\\aissa\\anaconda3\\lib\\site-packages\\sklearn\\ensemble\\_forest.py:424: FutureWarning: `max_features='auto'` has been deprecated in 1.1 and will be removed in 1.3. To keep the past behaviour, explicitly set `max_features='sqrt'` or remove this parameter as it is also the default value for RandomForestClassifiers and ExtraTreesClassifiers.\n",
      "  warn(\n"
     ]
    },
    {
     "name": "stdout",
     "output_type": "stream",
     "text": [
      "[CV 2/5; 6/36] END max_features=auto, min_samples_leaf=3, n_estimators=50;, score=0.934 total time=   6.9s\n",
      "[CV 3/5; 6/36] START max_features=auto, min_samples_leaf=3, n_estimators=50.....\n"
     ]
    },
    {
     "name": "stderr",
     "output_type": "stream",
     "text": [
      "C:\\Users\\aissa\\anaconda3\\lib\\site-packages\\sklearn\\ensemble\\_forest.py:424: FutureWarning: `max_features='auto'` has been deprecated in 1.1 and will be removed in 1.3. To keep the past behaviour, explicitly set `max_features='sqrt'` or remove this parameter as it is also the default value for RandomForestClassifiers and ExtraTreesClassifiers.\n",
      "  warn(\n"
     ]
    },
    {
     "name": "stdout",
     "output_type": "stream",
     "text": [
      "[CV 3/5; 6/36] END max_features=auto, min_samples_leaf=3, n_estimators=50;, score=0.932 total time=   6.8s\n",
      "[CV 4/5; 6/36] START max_features=auto, min_samples_leaf=3, n_estimators=50.....\n"
     ]
    },
    {
     "name": "stderr",
     "output_type": "stream",
     "text": [
      "C:\\Users\\aissa\\anaconda3\\lib\\site-packages\\sklearn\\ensemble\\_forest.py:424: FutureWarning: `max_features='auto'` has been deprecated in 1.1 and will be removed in 1.3. To keep the past behaviour, explicitly set `max_features='sqrt'` or remove this parameter as it is also the default value for RandomForestClassifiers and ExtraTreesClassifiers.\n",
      "  warn(\n"
     ]
    },
    {
     "name": "stdout",
     "output_type": "stream",
     "text": [
      "[CV 4/5; 6/36] END max_features=auto, min_samples_leaf=3, n_estimators=50;, score=0.932 total time=   6.8s\n",
      "[CV 5/5; 6/36] START max_features=auto, min_samples_leaf=3, n_estimators=50.....\n"
     ]
    },
    {
     "name": "stderr",
     "output_type": "stream",
     "text": [
      "C:\\Users\\aissa\\anaconda3\\lib\\site-packages\\sklearn\\ensemble\\_forest.py:424: FutureWarning: `max_features='auto'` has been deprecated in 1.1 and will be removed in 1.3. To keep the past behaviour, explicitly set `max_features='sqrt'` or remove this parameter as it is also the default value for RandomForestClassifiers and ExtraTreesClassifiers.\n",
      "  warn(\n"
     ]
    },
    {
     "name": "stdout",
     "output_type": "stream",
     "text": [
      "[CV 5/5; 6/36] END max_features=auto, min_samples_leaf=3, n_estimators=50;, score=0.933 total time=   6.9s\n",
      "[CV 1/5; 7/36] START max_features=auto, min_samples_leaf=3, n_estimators=100....\n"
     ]
    },
    {
     "name": "stderr",
     "output_type": "stream",
     "text": [
      "C:\\Users\\aissa\\anaconda3\\lib\\site-packages\\sklearn\\ensemble\\_forest.py:424: FutureWarning: `max_features='auto'` has been deprecated in 1.1 and will be removed in 1.3. To keep the past behaviour, explicitly set `max_features='sqrt'` or remove this parameter as it is also the default value for RandomForestClassifiers and ExtraTreesClassifiers.\n",
      "  warn(\n"
     ]
    },
    {
     "name": "stdout",
     "output_type": "stream",
     "text": [
      "[CV 1/5; 7/36] END max_features=auto, min_samples_leaf=3, n_estimators=100;, score=0.925 total time=  13.8s\n",
      "[CV 2/5; 7/36] START max_features=auto, min_samples_leaf=3, n_estimators=100....\n"
     ]
    },
    {
     "name": "stderr",
     "output_type": "stream",
     "text": [
      "C:\\Users\\aissa\\anaconda3\\lib\\site-packages\\sklearn\\ensemble\\_forest.py:424: FutureWarning: `max_features='auto'` has been deprecated in 1.1 and will be removed in 1.3. To keep the past behaviour, explicitly set `max_features='sqrt'` or remove this parameter as it is also the default value for RandomForestClassifiers and ExtraTreesClassifiers.\n",
      "  warn(\n"
     ]
    },
    {
     "name": "stdout",
     "output_type": "stream",
     "text": [
      "[CV 2/5; 7/36] END max_features=auto, min_samples_leaf=3, n_estimators=100;, score=0.931 total time=  14.0s\n",
      "[CV 3/5; 7/36] START max_features=auto, min_samples_leaf=3, n_estimators=100....\n"
     ]
    },
    {
     "name": "stderr",
     "output_type": "stream",
     "text": [
      "C:\\Users\\aissa\\anaconda3\\lib\\site-packages\\sklearn\\ensemble\\_forest.py:424: FutureWarning: `max_features='auto'` has been deprecated in 1.1 and will be removed in 1.3. To keep the past behaviour, explicitly set `max_features='sqrt'` or remove this parameter as it is also the default value for RandomForestClassifiers and ExtraTreesClassifiers.\n",
      "  warn(\n"
     ]
    },
    {
     "name": "stdout",
     "output_type": "stream",
     "text": [
      "[CV 3/5; 7/36] END max_features=auto, min_samples_leaf=3, n_estimators=100;, score=0.932 total time=  13.9s\n",
      "[CV 4/5; 7/36] START max_features=auto, min_samples_leaf=3, n_estimators=100....\n"
     ]
    },
    {
     "name": "stderr",
     "output_type": "stream",
     "text": [
      "C:\\Users\\aissa\\anaconda3\\lib\\site-packages\\sklearn\\ensemble\\_forest.py:424: FutureWarning: `max_features='auto'` has been deprecated in 1.1 and will be removed in 1.3. To keep the past behaviour, explicitly set `max_features='sqrt'` or remove this parameter as it is also the default value for RandomForestClassifiers and ExtraTreesClassifiers.\n",
      "  warn(\n"
     ]
    },
    {
     "name": "stdout",
     "output_type": "stream",
     "text": [
      "[CV 4/5; 7/36] END max_features=auto, min_samples_leaf=3, n_estimators=100;, score=0.932 total time=  13.6s\n",
      "[CV 5/5; 7/36] START max_features=auto, min_samples_leaf=3, n_estimators=100....\n"
     ]
    },
    {
     "name": "stderr",
     "output_type": "stream",
     "text": [
      "C:\\Users\\aissa\\anaconda3\\lib\\site-packages\\sklearn\\ensemble\\_forest.py:424: FutureWarning: `max_features='auto'` has been deprecated in 1.1 and will be removed in 1.3. To keep the past behaviour, explicitly set `max_features='sqrt'` or remove this parameter as it is also the default value for RandomForestClassifiers and ExtraTreesClassifiers.\n",
      "  warn(\n"
     ]
    },
    {
     "name": "stdout",
     "output_type": "stream",
     "text": [
      "[CV 5/5; 7/36] END max_features=auto, min_samples_leaf=3, n_estimators=100;, score=0.932 total time=  13.7s\n",
      "[CV 1/5; 8/36] START max_features=auto, min_samples_leaf=3, n_estimators=250....\n"
     ]
    },
    {
     "name": "stderr",
     "output_type": "stream",
     "text": [
      "C:\\Users\\aissa\\anaconda3\\lib\\site-packages\\sklearn\\ensemble\\_forest.py:424: FutureWarning: `max_features='auto'` has been deprecated in 1.1 and will be removed in 1.3. To keep the past behaviour, explicitly set `max_features='sqrt'` or remove this parameter as it is also the default value for RandomForestClassifiers and ExtraTreesClassifiers.\n",
      "  warn(\n"
     ]
    },
    {
     "name": "stdout",
     "output_type": "stream",
     "text": [
      "[CV 1/5; 8/36] END max_features=auto, min_samples_leaf=3, n_estimators=250;, score=0.927 total time=  34.6s\n",
      "[CV 2/5; 8/36] START max_features=auto, min_samples_leaf=3, n_estimators=250....\n"
     ]
    },
    {
     "name": "stderr",
     "output_type": "stream",
     "text": [
      "C:\\Users\\aissa\\anaconda3\\lib\\site-packages\\sklearn\\ensemble\\_forest.py:424: FutureWarning: `max_features='auto'` has been deprecated in 1.1 and will be removed in 1.3. To keep the past behaviour, explicitly set `max_features='sqrt'` or remove this parameter as it is also the default value for RandomForestClassifiers and ExtraTreesClassifiers.\n",
      "  warn(\n"
     ]
    },
    {
     "name": "stdout",
     "output_type": "stream",
     "text": [
      "[CV 2/5; 8/36] END max_features=auto, min_samples_leaf=3, n_estimators=250;, score=0.931 total time=  34.3s\n",
      "[CV 3/5; 8/36] START max_features=auto, min_samples_leaf=3, n_estimators=250....\n"
     ]
    },
    {
     "name": "stderr",
     "output_type": "stream",
     "text": [
      "C:\\Users\\aissa\\anaconda3\\lib\\site-packages\\sklearn\\ensemble\\_forest.py:424: FutureWarning: `max_features='auto'` has been deprecated in 1.1 and will be removed in 1.3. To keep the past behaviour, explicitly set `max_features='sqrt'` or remove this parameter as it is also the default value for RandomForestClassifiers and ExtraTreesClassifiers.\n",
      "  warn(\n"
     ]
    },
    {
     "name": "stdout",
     "output_type": "stream",
     "text": [
      "[CV 3/5; 8/36] END max_features=auto, min_samples_leaf=3, n_estimators=250;, score=0.936 total time=  34.5s\n",
      "[CV 4/5; 8/36] START max_features=auto, min_samples_leaf=3, n_estimators=250....\n"
     ]
    },
    {
     "name": "stderr",
     "output_type": "stream",
     "text": [
      "C:\\Users\\aissa\\anaconda3\\lib\\site-packages\\sklearn\\ensemble\\_forest.py:424: FutureWarning: `max_features='auto'` has been deprecated in 1.1 and will be removed in 1.3. To keep the past behaviour, explicitly set `max_features='sqrt'` or remove this parameter as it is also the default value for RandomForestClassifiers and ExtraTreesClassifiers.\n",
      "  warn(\n"
     ]
    },
    {
     "name": "stdout",
     "output_type": "stream",
     "text": [
      "[CV 4/5; 8/36] END max_features=auto, min_samples_leaf=3, n_estimators=250;, score=0.933 total time=  34.3s\n",
      "[CV 5/5; 8/36] START max_features=auto, min_samples_leaf=3, n_estimators=250....\n"
     ]
    },
    {
     "name": "stderr",
     "output_type": "stream",
     "text": [
      "C:\\Users\\aissa\\anaconda3\\lib\\site-packages\\sklearn\\ensemble\\_forest.py:424: FutureWarning: `max_features='auto'` has been deprecated in 1.1 and will be removed in 1.3. To keep the past behaviour, explicitly set `max_features='sqrt'` or remove this parameter as it is also the default value for RandomForestClassifiers and ExtraTreesClassifiers.\n",
      "  warn(\n"
     ]
    },
    {
     "name": "stdout",
     "output_type": "stream",
     "text": [
      "[CV 5/5; 8/36] END max_features=auto, min_samples_leaf=3, n_estimators=250;, score=0.933 total time=  34.6s\n",
      "[CV 1/5; 9/36] START max_features=auto, min_samples_leaf=5, n_estimators=10.....\n"
     ]
    },
    {
     "name": "stderr",
     "output_type": "stream",
     "text": [
      "C:\\Users\\aissa\\anaconda3\\lib\\site-packages\\sklearn\\ensemble\\_forest.py:424: FutureWarning: `max_features='auto'` has been deprecated in 1.1 and will be removed in 1.3. To keep the past behaviour, explicitly set `max_features='sqrt'` or remove this parameter as it is also the default value for RandomForestClassifiers and ExtraTreesClassifiers.\n",
      "  warn(\n"
     ]
    },
    {
     "name": "stdout",
     "output_type": "stream",
     "text": [
      "[CV 1/5; 9/36] END max_features=auto, min_samples_leaf=5, n_estimators=10;, score=0.910 total time=   1.3s\n",
      "[CV 2/5; 9/36] START max_features=auto, min_samples_leaf=5, n_estimators=10.....\n"
     ]
    },
    {
     "name": "stderr",
     "output_type": "stream",
     "text": [
      "C:\\Users\\aissa\\anaconda3\\lib\\site-packages\\sklearn\\ensemble\\_forest.py:424: FutureWarning: `max_features='auto'` has been deprecated in 1.1 and will be removed in 1.3. To keep the past behaviour, explicitly set `max_features='sqrt'` or remove this parameter as it is also the default value for RandomForestClassifiers and ExtraTreesClassifiers.\n",
      "  warn(\n"
     ]
    },
    {
     "name": "stdout",
     "output_type": "stream",
     "text": [
      "[CV 2/5; 9/36] END max_features=auto, min_samples_leaf=5, n_estimators=10;, score=0.917 total time=   1.3s\n",
      "[CV 3/5; 9/36] START max_features=auto, min_samples_leaf=5, n_estimators=10.....\n"
     ]
    },
    {
     "name": "stderr",
     "output_type": "stream",
     "text": [
      "C:\\Users\\aissa\\anaconda3\\lib\\site-packages\\sklearn\\ensemble\\_forest.py:424: FutureWarning: `max_features='auto'` has been deprecated in 1.1 and will be removed in 1.3. To keep the past behaviour, explicitly set `max_features='sqrt'` or remove this parameter as it is also the default value for RandomForestClassifiers and ExtraTreesClassifiers.\n",
      "  warn(\n"
     ]
    },
    {
     "name": "stdout",
     "output_type": "stream",
     "text": [
      "[CV 3/5; 9/36] END max_features=auto, min_samples_leaf=5, n_estimators=10;, score=0.918 total time=   1.3s\n",
      "[CV 4/5; 9/36] START max_features=auto, min_samples_leaf=5, n_estimators=10.....\n"
     ]
    },
    {
     "name": "stderr",
     "output_type": "stream",
     "text": [
      "C:\\Users\\aissa\\anaconda3\\lib\\site-packages\\sklearn\\ensemble\\_forest.py:424: FutureWarning: `max_features='auto'` has been deprecated in 1.1 and will be removed in 1.3. To keep the past behaviour, explicitly set `max_features='sqrt'` or remove this parameter as it is also the default value for RandomForestClassifiers and ExtraTreesClassifiers.\n",
      "  warn(\n"
     ]
    },
    {
     "name": "stdout",
     "output_type": "stream",
     "text": [
      "[CV 4/5; 9/36] END max_features=auto, min_samples_leaf=5, n_estimators=10;, score=0.920 total time=   1.4s\n",
      "[CV 5/5; 9/36] START max_features=auto, min_samples_leaf=5, n_estimators=10.....\n"
     ]
    },
    {
     "name": "stderr",
     "output_type": "stream",
     "text": [
      "C:\\Users\\aissa\\anaconda3\\lib\\site-packages\\sklearn\\ensemble\\_forest.py:424: FutureWarning: `max_features='auto'` has been deprecated in 1.1 and will be removed in 1.3. To keep the past behaviour, explicitly set `max_features='sqrt'` or remove this parameter as it is also the default value for RandomForestClassifiers and ExtraTreesClassifiers.\n",
      "  warn(\n"
     ]
    },
    {
     "name": "stdout",
     "output_type": "stream",
     "text": [
      "[CV 5/5; 9/36] END max_features=auto, min_samples_leaf=5, n_estimators=10;, score=0.923 total time=   1.4s\n",
      "[CV 1/5; 10/36] START max_features=auto, min_samples_leaf=5, n_estimators=50....\n"
     ]
    },
    {
     "name": "stderr",
     "output_type": "stream",
     "text": [
      "C:\\Users\\aissa\\anaconda3\\lib\\site-packages\\sklearn\\ensemble\\_forest.py:424: FutureWarning: `max_features='auto'` has been deprecated in 1.1 and will be removed in 1.3. To keep the past behaviour, explicitly set `max_features='sqrt'` or remove this parameter as it is also the default value for RandomForestClassifiers and ExtraTreesClassifiers.\n",
      "  warn(\n"
     ]
    },
    {
     "name": "stdout",
     "output_type": "stream",
     "text": [
      "[CV 1/5; 10/36] END max_features=auto, min_samples_leaf=5, n_estimators=50;, score=0.916 total time=   6.6s\n",
      "[CV 2/5; 10/36] START max_features=auto, min_samples_leaf=5, n_estimators=50....\n"
     ]
    },
    {
     "name": "stderr",
     "output_type": "stream",
     "text": [
      "C:\\Users\\aissa\\anaconda3\\lib\\site-packages\\sklearn\\ensemble\\_forest.py:424: FutureWarning: `max_features='auto'` has been deprecated in 1.1 and will be removed in 1.3. To keep the past behaviour, explicitly set `max_features='sqrt'` or remove this parameter as it is also the default value for RandomForestClassifiers and ExtraTreesClassifiers.\n",
      "  warn(\n"
     ]
    },
    {
     "name": "stdout",
     "output_type": "stream",
     "text": [
      "[CV 2/5; 10/36] END max_features=auto, min_samples_leaf=5, n_estimators=50;, score=0.927 total time=   6.6s\n",
      "[CV 3/5; 10/36] START max_features=auto, min_samples_leaf=5, n_estimators=50....\n"
     ]
    },
    {
     "name": "stderr",
     "output_type": "stream",
     "text": [
      "C:\\Users\\aissa\\anaconda3\\lib\\site-packages\\sklearn\\ensemble\\_forest.py:424: FutureWarning: `max_features='auto'` has been deprecated in 1.1 and will be removed in 1.3. To keep the past behaviour, explicitly set `max_features='sqrt'` or remove this parameter as it is also the default value for RandomForestClassifiers and ExtraTreesClassifiers.\n",
      "  warn(\n"
     ]
    },
    {
     "name": "stdout",
     "output_type": "stream",
     "text": [
      "[CV 3/5; 10/36] END max_features=auto, min_samples_leaf=5, n_estimators=50;, score=0.929 total time=   6.8s\n",
      "[CV 4/5; 10/36] START max_features=auto, min_samples_leaf=5, n_estimators=50....\n"
     ]
    },
    {
     "name": "stderr",
     "output_type": "stream",
     "text": [
      "C:\\Users\\aissa\\anaconda3\\lib\\site-packages\\sklearn\\ensemble\\_forest.py:424: FutureWarning: `max_features='auto'` has been deprecated in 1.1 and will be removed in 1.3. To keep the past behaviour, explicitly set `max_features='sqrt'` or remove this parameter as it is also the default value for RandomForestClassifiers and ExtraTreesClassifiers.\n",
      "  warn(\n"
     ]
    },
    {
     "name": "stdout",
     "output_type": "stream",
     "text": [
      "[CV 4/5; 10/36] END max_features=auto, min_samples_leaf=5, n_estimators=50;, score=0.927 total time=   6.5s\n",
      "[CV 5/5; 10/36] START max_features=auto, min_samples_leaf=5, n_estimators=50....\n"
     ]
    },
    {
     "name": "stderr",
     "output_type": "stream",
     "text": [
      "C:\\Users\\aissa\\anaconda3\\lib\\site-packages\\sklearn\\ensemble\\_forest.py:424: FutureWarning: `max_features='auto'` has been deprecated in 1.1 and will be removed in 1.3. To keep the past behaviour, explicitly set `max_features='sqrt'` or remove this parameter as it is also the default value for RandomForestClassifiers and ExtraTreesClassifiers.\n",
      "  warn(\n"
     ]
    },
    {
     "name": "stdout",
     "output_type": "stream",
     "text": [
      "[CV 5/5; 10/36] END max_features=auto, min_samples_leaf=5, n_estimators=50;, score=0.928 total time=   7.0s\n",
      "[CV 1/5; 11/36] START max_features=auto, min_samples_leaf=5, n_estimators=100...\n"
     ]
    },
    {
     "name": "stderr",
     "output_type": "stream",
     "text": [
      "C:\\Users\\aissa\\anaconda3\\lib\\site-packages\\sklearn\\ensemble\\_forest.py:424: FutureWarning: `max_features='auto'` has been deprecated in 1.1 and will be removed in 1.3. To keep the past behaviour, explicitly set `max_features='sqrt'` or remove this parameter as it is also the default value for RandomForestClassifiers and ExtraTreesClassifiers.\n",
      "  warn(\n"
     ]
    },
    {
     "name": "stdout",
     "output_type": "stream",
     "text": [
      "[CV 1/5; 11/36] END max_features=auto, min_samples_leaf=5, n_estimators=100;, score=0.920 total time=  13.6s\n",
      "[CV 2/5; 11/36] START max_features=auto, min_samples_leaf=5, n_estimators=100...\n"
     ]
    },
    {
     "name": "stderr",
     "output_type": "stream",
     "text": [
      "C:\\Users\\aissa\\anaconda3\\lib\\site-packages\\sklearn\\ensemble\\_forest.py:424: FutureWarning: `max_features='auto'` has been deprecated in 1.1 and will be removed in 1.3. To keep the past behaviour, explicitly set `max_features='sqrt'` or remove this parameter as it is also the default value for RandomForestClassifiers and ExtraTreesClassifiers.\n",
      "  warn(\n"
     ]
    },
    {
     "name": "stdout",
     "output_type": "stream",
     "text": [
      "[CV 2/5; 11/36] END max_features=auto, min_samples_leaf=5, n_estimators=100;, score=0.926 total time=  13.2s\n",
      "[CV 3/5; 11/36] START max_features=auto, min_samples_leaf=5, n_estimators=100...\n"
     ]
    },
    {
     "name": "stderr",
     "output_type": "stream",
     "text": [
      "C:\\Users\\aissa\\anaconda3\\lib\\site-packages\\sklearn\\ensemble\\_forest.py:424: FutureWarning: `max_features='auto'` has been deprecated in 1.1 and will be removed in 1.3. To keep the past behaviour, explicitly set `max_features='sqrt'` or remove this parameter as it is also the default value for RandomForestClassifiers and ExtraTreesClassifiers.\n",
      "  warn(\n"
     ]
    },
    {
     "name": "stdout",
     "output_type": "stream",
     "text": [
      "[CV 3/5; 11/36] END max_features=auto, min_samples_leaf=5, n_estimators=100;, score=0.929 total time=  13.4s\n",
      "[CV 4/5; 11/36] START max_features=auto, min_samples_leaf=5, n_estimators=100...\n"
     ]
    },
    {
     "name": "stderr",
     "output_type": "stream",
     "text": [
      "C:\\Users\\aissa\\anaconda3\\lib\\site-packages\\sklearn\\ensemble\\_forest.py:424: FutureWarning: `max_features='auto'` has been deprecated in 1.1 and will be removed in 1.3. To keep the past behaviour, explicitly set `max_features='sqrt'` or remove this parameter as it is also the default value for RandomForestClassifiers and ExtraTreesClassifiers.\n",
      "  warn(\n"
     ]
    },
    {
     "name": "stdout",
     "output_type": "stream",
     "text": [
      "[CV 4/5; 11/36] END max_features=auto, min_samples_leaf=5, n_estimators=100;, score=0.926 total time=  13.5s\n",
      "[CV 5/5; 11/36] START max_features=auto, min_samples_leaf=5, n_estimators=100...\n"
     ]
    },
    {
     "name": "stderr",
     "output_type": "stream",
     "text": [
      "C:\\Users\\aissa\\anaconda3\\lib\\site-packages\\sklearn\\ensemble\\_forest.py:424: FutureWarning: `max_features='auto'` has been deprecated in 1.1 and will be removed in 1.3. To keep the past behaviour, explicitly set `max_features='sqrt'` or remove this parameter as it is also the default value for RandomForestClassifiers and ExtraTreesClassifiers.\n",
      "  warn(\n"
     ]
    },
    {
     "name": "stdout",
     "output_type": "stream",
     "text": [
      "[CV 5/5; 11/36] END max_features=auto, min_samples_leaf=5, n_estimators=100;, score=0.926 total time=  13.6s\n",
      "[CV 1/5; 12/36] START max_features=auto, min_samples_leaf=5, n_estimators=250...\n"
     ]
    },
    {
     "name": "stderr",
     "output_type": "stream",
     "text": [
      "C:\\Users\\aissa\\anaconda3\\lib\\site-packages\\sklearn\\ensemble\\_forest.py:424: FutureWarning: `max_features='auto'` has been deprecated in 1.1 and will be removed in 1.3. To keep the past behaviour, explicitly set `max_features='sqrt'` or remove this parameter as it is also the default value for RandomForestClassifiers and ExtraTreesClassifiers.\n",
      "  warn(\n"
     ]
    },
    {
     "name": "stdout",
     "output_type": "stream",
     "text": [
      "[CV 1/5; 12/36] END max_features=auto, min_samples_leaf=5, n_estimators=250;, score=0.920 total time=  33.6s\n",
      "[CV 2/5; 12/36] START max_features=auto, min_samples_leaf=5, n_estimators=250...\n"
     ]
    },
    {
     "name": "stderr",
     "output_type": "stream",
     "text": [
      "C:\\Users\\aissa\\anaconda3\\lib\\site-packages\\sklearn\\ensemble\\_forest.py:424: FutureWarning: `max_features='auto'` has been deprecated in 1.1 and will be removed in 1.3. To keep the past behaviour, explicitly set `max_features='sqrt'` or remove this parameter as it is also the default value for RandomForestClassifiers and ExtraTreesClassifiers.\n",
      "  warn(\n"
     ]
    },
    {
     "name": "stdout",
     "output_type": "stream",
     "text": [
      "[CV 2/5; 12/36] END max_features=auto, min_samples_leaf=5, n_estimators=250;, score=0.927 total time=  33.4s\n",
      "[CV 3/5; 12/36] START max_features=auto, min_samples_leaf=5, n_estimators=250...\n"
     ]
    },
    {
     "name": "stderr",
     "output_type": "stream",
     "text": [
      "C:\\Users\\aissa\\anaconda3\\lib\\site-packages\\sklearn\\ensemble\\_forest.py:424: FutureWarning: `max_features='auto'` has been deprecated in 1.1 and will be removed in 1.3. To keep the past behaviour, explicitly set `max_features='sqrt'` or remove this parameter as it is also the default value for RandomForestClassifiers and ExtraTreesClassifiers.\n",
      "  warn(\n"
     ]
    },
    {
     "name": "stdout",
     "output_type": "stream",
     "text": [
      "[CV 3/5; 12/36] END max_features=auto, min_samples_leaf=5, n_estimators=250;, score=0.932 total time=  33.8s\n",
      "[CV 4/5; 12/36] START max_features=auto, min_samples_leaf=5, n_estimators=250...\n"
     ]
    },
    {
     "name": "stderr",
     "output_type": "stream",
     "text": [
      "C:\\Users\\aissa\\anaconda3\\lib\\site-packages\\sklearn\\ensemble\\_forest.py:424: FutureWarning: `max_features='auto'` has been deprecated in 1.1 and will be removed in 1.3. To keep the past behaviour, explicitly set `max_features='sqrt'` or remove this parameter as it is also the default value for RandomForestClassifiers and ExtraTreesClassifiers.\n",
      "  warn(\n"
     ]
    },
    {
     "name": "stdout",
     "output_type": "stream",
     "text": [
      "[CV 4/5; 12/36] END max_features=auto, min_samples_leaf=5, n_estimators=250;, score=0.927 total time=  33.3s\n",
      "[CV 5/5; 12/36] START max_features=auto, min_samples_leaf=5, n_estimators=250...\n"
     ]
    },
    {
     "name": "stderr",
     "output_type": "stream",
     "text": [
      "C:\\Users\\aissa\\anaconda3\\lib\\site-packages\\sklearn\\ensemble\\_forest.py:424: FutureWarning: `max_features='auto'` has been deprecated in 1.1 and will be removed in 1.3. To keep the past behaviour, explicitly set `max_features='sqrt'` or remove this parameter as it is also the default value for RandomForestClassifiers and ExtraTreesClassifiers.\n",
      "  warn(\n"
     ]
    },
    {
     "name": "stdout",
     "output_type": "stream",
     "text": [
      "[CV 5/5; 12/36] END max_features=auto, min_samples_leaf=5, n_estimators=250;, score=0.927 total time=  33.5s\n",
      "[CV 1/5; 13/36] START max_features=sqrt, min_samples_leaf=1, n_estimators=10....\n",
      "[CV 1/5; 13/36] END max_features=sqrt, min_samples_leaf=1, n_estimators=10;, score=0.916 total time=   1.5s\n",
      "[CV 2/5; 13/36] START max_features=sqrt, min_samples_leaf=1, n_estimators=10....\n",
      "[CV 2/5; 13/36] END max_features=sqrt, min_samples_leaf=1, n_estimators=10;, score=0.919 total time=   1.5s\n",
      "[CV 3/5; 13/36] START max_features=sqrt, min_samples_leaf=1, n_estimators=10....\n",
      "[CV 3/5; 13/36] END max_features=sqrt, min_samples_leaf=1, n_estimators=10;, score=0.922 total time=   1.4s\n",
      "[CV 4/5; 13/36] START max_features=sqrt, min_samples_leaf=1, n_estimators=10....\n",
      "[CV 4/5; 13/36] END max_features=sqrt, min_samples_leaf=1, n_estimators=10;, score=0.920 total time=   1.4s\n",
      "[CV 5/5; 13/36] START max_features=sqrt, min_samples_leaf=1, n_estimators=10....\n",
      "[CV 5/5; 13/36] END max_features=sqrt, min_samples_leaf=1, n_estimators=10;, score=0.924 total time=   1.4s\n",
      "[CV 1/5; 14/36] START max_features=sqrt, min_samples_leaf=1, n_estimators=50....\n",
      "[CV 1/5; 14/36] END max_features=sqrt, min_samples_leaf=1, n_estimators=50;, score=0.928 total time=   7.2s\n",
      "[CV 2/5; 14/36] START max_features=sqrt, min_samples_leaf=1, n_estimators=50....\n",
      "[CV 2/5; 14/36] END max_features=sqrt, min_samples_leaf=1, n_estimators=50;, score=0.932 total time=   7.4s\n",
      "[CV 3/5; 14/36] START max_features=sqrt, min_samples_leaf=1, n_estimators=50....\n",
      "[CV 3/5; 14/36] END max_features=sqrt, min_samples_leaf=1, n_estimators=50;, score=0.935 total time=   7.2s\n",
      "[CV 4/5; 14/36] START max_features=sqrt, min_samples_leaf=1, n_estimators=50....\n",
      "[CV 4/5; 14/36] END max_features=sqrt, min_samples_leaf=1, n_estimators=50;, score=0.937 total time=   7.4s\n",
      "[CV 5/5; 14/36] START max_features=sqrt, min_samples_leaf=1, n_estimators=50....\n",
      "[CV 5/5; 14/36] END max_features=sqrt, min_samples_leaf=1, n_estimators=50;, score=0.939 total time=   7.2s\n",
      "[CV 1/5; 15/36] START max_features=sqrt, min_samples_leaf=1, n_estimators=100...\n",
      "[CV 1/5; 15/36] END max_features=sqrt, min_samples_leaf=1, n_estimators=100;, score=0.930 total time=  14.6s\n",
      "[CV 2/5; 15/36] START max_features=sqrt, min_samples_leaf=1, n_estimators=100...\n",
      "[CV 2/5; 15/36] END max_features=sqrt, min_samples_leaf=1, n_estimators=100;, score=0.936 total time=  14.7s\n",
      "[CV 3/5; 15/36] START max_features=sqrt, min_samples_leaf=1, n_estimators=100...\n",
      "[CV 3/5; 15/36] END max_features=sqrt, min_samples_leaf=1, n_estimators=100;, score=0.940 total time=  14.7s\n",
      "[CV 4/5; 15/36] START max_features=sqrt, min_samples_leaf=1, n_estimators=100...\n",
      "[CV 4/5; 15/36] END max_features=sqrt, min_samples_leaf=1, n_estimators=100;, score=0.939 total time=  17.5s\n",
      "[CV 5/5; 15/36] START max_features=sqrt, min_samples_leaf=1, n_estimators=100...\n",
      "[CV 5/5; 15/36] END max_features=sqrt, min_samples_leaf=1, n_estimators=100;, score=0.938 total time=  17.0s\n",
      "[CV 1/5; 16/36] START max_features=sqrt, min_samples_leaf=1, n_estimators=250...\n",
      "[CV 1/5; 16/36] END max_features=sqrt, min_samples_leaf=1, n_estimators=250;, score=0.931 total time=  36.7s\n",
      "[CV 2/5; 16/36] START max_features=sqrt, min_samples_leaf=1, n_estimators=250...\n",
      "[CV 2/5; 16/36] END max_features=sqrt, min_samples_leaf=1, n_estimators=250;, score=0.937 total time=  36.3s\n",
      "[CV 3/5; 16/36] START max_features=sqrt, min_samples_leaf=1, n_estimators=250...\n",
      "[CV 3/5; 16/36] END max_features=sqrt, min_samples_leaf=1, n_estimators=250;, score=0.942 total time=  36.3s\n",
      "[CV 4/5; 16/36] START max_features=sqrt, min_samples_leaf=1, n_estimators=250...\n",
      "[CV 4/5; 16/36] END max_features=sqrt, min_samples_leaf=1, n_estimators=250;, score=0.940 total time=  36.5s\n",
      "[CV 5/5; 16/36] START max_features=sqrt, min_samples_leaf=1, n_estimators=250...\n",
      "[CV 5/5; 16/36] END max_features=sqrt, min_samples_leaf=1, n_estimators=250;, score=0.941 total time=  37.9s\n",
      "[CV 1/5; 17/36] START max_features=sqrt, min_samples_leaf=3, n_estimators=10....\n",
      "[CV 1/5; 17/36] END max_features=sqrt, min_samples_leaf=3, n_estimators=10;, score=0.911 total time=   1.3s\n",
      "[CV 2/5; 17/36] START max_features=sqrt, min_samples_leaf=3, n_estimators=10....\n",
      "[CV 2/5; 17/36] END max_features=sqrt, min_samples_leaf=3, n_estimators=10;, score=0.919 total time=   1.3s\n",
      "[CV 3/5; 17/36] START max_features=sqrt, min_samples_leaf=3, n_estimators=10....\n",
      "[CV 3/5; 17/36] END max_features=sqrt, min_samples_leaf=3, n_estimators=10;, score=0.918 total time=   1.3s\n",
      "[CV 4/5; 17/36] START max_features=sqrt, min_samples_leaf=3, n_estimators=10....\n",
      "[CV 4/5; 17/36] END max_features=sqrt, min_samples_leaf=3, n_estimators=10;, score=0.922 total time=   1.3s\n",
      "[CV 5/5; 17/36] START max_features=sqrt, min_samples_leaf=3, n_estimators=10....\n",
      "[CV 5/5; 17/36] END max_features=sqrt, min_samples_leaf=3, n_estimators=10;, score=0.922 total time=   1.3s\n",
      "[CV 1/5; 18/36] START max_features=sqrt, min_samples_leaf=3, n_estimators=50....\n",
      "[CV 1/5; 18/36] END max_features=sqrt, min_samples_leaf=3, n_estimators=50;, score=0.923 total time=   6.9s\n",
      "[CV 2/5; 18/36] START max_features=sqrt, min_samples_leaf=3, n_estimators=50....\n",
      "[CV 2/5; 18/36] END max_features=sqrt, min_samples_leaf=3, n_estimators=50;, score=0.934 total time=   6.8s\n",
      "[CV 3/5; 18/36] START max_features=sqrt, min_samples_leaf=3, n_estimators=50....\n",
      "[CV 3/5; 18/36] END max_features=sqrt, min_samples_leaf=3, n_estimators=50;, score=0.932 total time=   6.8s\n",
      "[CV 4/5; 18/36] START max_features=sqrt, min_samples_leaf=3, n_estimators=50....\n",
      "[CV 4/5; 18/36] END max_features=sqrt, min_samples_leaf=3, n_estimators=50;, score=0.932 total time=   6.8s\n",
      "[CV 5/5; 18/36] START max_features=sqrt, min_samples_leaf=3, n_estimators=50....\n",
      "[CV 5/5; 18/36] END max_features=sqrt, min_samples_leaf=3, n_estimators=50;, score=0.933 total time=   6.8s\n",
      "[CV 1/5; 19/36] START max_features=sqrt, min_samples_leaf=3, n_estimators=100...\n",
      "[CV 1/5; 19/36] END max_features=sqrt, min_samples_leaf=3, n_estimators=100;, score=0.925 total time=  13.7s\n",
      "[CV 2/5; 19/36] START max_features=sqrt, min_samples_leaf=3, n_estimators=100...\n",
      "[CV 2/5; 19/36] END max_features=sqrt, min_samples_leaf=3, n_estimators=100;, score=0.931 total time=  13.9s\n",
      "[CV 3/5; 19/36] START max_features=sqrt, min_samples_leaf=3, n_estimators=100...\n",
      "[CV 3/5; 19/36] END max_features=sqrt, min_samples_leaf=3, n_estimators=100;, score=0.932 total time=  13.7s\n",
      "[CV 4/5; 19/36] START max_features=sqrt, min_samples_leaf=3, n_estimators=100...\n",
      "[CV 4/5; 19/36] END max_features=sqrt, min_samples_leaf=3, n_estimators=100;, score=0.932 total time=  13.6s\n",
      "[CV 5/5; 19/36] START max_features=sqrt, min_samples_leaf=3, n_estimators=100...\n",
      "[CV 5/5; 19/36] END max_features=sqrt, min_samples_leaf=3, n_estimators=100;, score=0.932 total time=  13.7s\n",
      "[CV 1/5; 20/36] START max_features=sqrt, min_samples_leaf=3, n_estimators=250...\n",
      "[CV 1/5; 20/36] END max_features=sqrt, min_samples_leaf=3, n_estimators=250;, score=0.927 total time=  34.4s\n",
      "[CV 2/5; 20/36] START max_features=sqrt, min_samples_leaf=3, n_estimators=250...\n",
      "[CV 2/5; 20/36] END max_features=sqrt, min_samples_leaf=3, n_estimators=250;, score=0.931 total time=  34.4s\n",
      "[CV 3/5; 20/36] START max_features=sqrt, min_samples_leaf=3, n_estimators=250...\n",
      "[CV 3/5; 20/36] END max_features=sqrt, min_samples_leaf=3, n_estimators=250;, score=0.936 total time=  34.3s\n",
      "[CV 4/5; 20/36] START max_features=sqrt, min_samples_leaf=3, n_estimators=250...\n",
      "[CV 4/5; 20/36] END max_features=sqrt, min_samples_leaf=3, n_estimators=250;, score=0.933 total time=  34.5s\n",
      "[CV 5/5; 20/36] START max_features=sqrt, min_samples_leaf=3, n_estimators=250...\n",
      "[CV 5/5; 20/36] END max_features=sqrt, min_samples_leaf=3, n_estimators=250;, score=0.933 total time=  35.1s\n",
      "[CV 1/5; 21/36] START max_features=sqrt, min_samples_leaf=5, n_estimators=10....\n",
      "[CV 1/5; 21/36] END max_features=sqrt, min_samples_leaf=5, n_estimators=10;, score=0.910 total time=   1.4s\n",
      "[CV 2/5; 21/36] START max_features=sqrt, min_samples_leaf=5, n_estimators=10....\n",
      "[CV 2/5; 21/36] END max_features=sqrt, min_samples_leaf=5, n_estimators=10;, score=0.917 total time=   1.4s\n",
      "[CV 3/5; 21/36] START max_features=sqrt, min_samples_leaf=5, n_estimators=10....\n",
      "[CV 3/5; 21/36] END max_features=sqrt, min_samples_leaf=5, n_estimators=10;, score=0.918 total time=   1.3s\n",
      "[CV 4/5; 21/36] START max_features=sqrt, min_samples_leaf=5, n_estimators=10....\n"
     ]
    },
    {
     "name": "stdout",
     "output_type": "stream",
     "text": [
      "[CV 4/5; 21/36] END max_features=sqrt, min_samples_leaf=5, n_estimators=10;, score=0.920 total time=   1.3s\n",
      "[CV 5/5; 21/36] START max_features=sqrt, min_samples_leaf=5, n_estimators=10....\n",
      "[CV 5/5; 21/36] END max_features=sqrt, min_samples_leaf=5, n_estimators=10;, score=0.923 total time=   1.3s\n",
      "[CV 1/5; 22/36] START max_features=sqrt, min_samples_leaf=5, n_estimators=50....\n",
      "[CV 1/5; 22/36] END max_features=sqrt, min_samples_leaf=5, n_estimators=50;, score=0.916 total time=   6.5s\n",
      "[CV 2/5; 22/36] START max_features=sqrt, min_samples_leaf=5, n_estimators=50....\n",
      "[CV 2/5; 22/36] END max_features=sqrt, min_samples_leaf=5, n_estimators=50;, score=0.927 total time=   6.8s\n",
      "[CV 3/5; 22/36] START max_features=sqrt, min_samples_leaf=5, n_estimators=50....\n",
      "[CV 3/5; 22/36] END max_features=sqrt, min_samples_leaf=5, n_estimators=50;, score=0.929 total time=   6.8s\n",
      "[CV 4/5; 22/36] START max_features=sqrt, min_samples_leaf=5, n_estimators=50....\n",
      "[CV 4/5; 22/36] END max_features=sqrt, min_samples_leaf=5, n_estimators=50;, score=0.927 total time=   6.8s\n",
      "[CV 5/5; 22/36] START max_features=sqrt, min_samples_leaf=5, n_estimators=50....\n",
      "[CV 5/5; 22/36] END max_features=sqrt, min_samples_leaf=5, n_estimators=50;, score=0.928 total time=   6.7s\n",
      "[CV 1/5; 23/36] START max_features=sqrt, min_samples_leaf=5, n_estimators=100...\n",
      "[CV 1/5; 23/36] END max_features=sqrt, min_samples_leaf=5, n_estimators=100;, score=0.920 total time=  13.5s\n",
      "[CV 2/5; 23/36] START max_features=sqrt, min_samples_leaf=5, n_estimators=100...\n",
      "[CV 2/5; 23/36] END max_features=sqrt, min_samples_leaf=5, n_estimators=100;, score=0.926 total time=  13.5s\n",
      "[CV 3/5; 23/36] START max_features=sqrt, min_samples_leaf=5, n_estimators=100...\n",
      "[CV 3/5; 23/36] END max_features=sqrt, min_samples_leaf=5, n_estimators=100;, score=0.929 total time=  13.4s\n",
      "[CV 4/5; 23/36] START max_features=sqrt, min_samples_leaf=5, n_estimators=100...\n",
      "[CV 4/5; 23/36] END max_features=sqrt, min_samples_leaf=5, n_estimators=100;, score=0.926 total time=  13.2s\n",
      "[CV 5/5; 23/36] START max_features=sqrt, min_samples_leaf=5, n_estimators=100...\n",
      "[CV 5/5; 23/36] END max_features=sqrt, min_samples_leaf=5, n_estimators=100;, score=0.926 total time=  13.4s\n",
      "[CV 1/5; 24/36] START max_features=sqrt, min_samples_leaf=5, n_estimators=250...\n",
      "[CV 1/5; 24/36] END max_features=sqrt, min_samples_leaf=5, n_estimators=250;, score=0.920 total time=  34.0s\n",
      "[CV 2/5; 24/36] START max_features=sqrt, min_samples_leaf=5, n_estimators=250...\n",
      "[CV 2/5; 24/36] END max_features=sqrt, min_samples_leaf=5, n_estimators=250;, score=0.927 total time=  33.4s\n",
      "[CV 3/5; 24/36] START max_features=sqrt, min_samples_leaf=5, n_estimators=250...\n",
      "[CV 3/5; 24/36] END max_features=sqrt, min_samples_leaf=5, n_estimators=250;, score=0.932 total time=  33.1s\n",
      "[CV 4/5; 24/36] START max_features=sqrt, min_samples_leaf=5, n_estimators=250...\n",
      "[CV 4/5; 24/36] END max_features=sqrt, min_samples_leaf=5, n_estimators=250;, score=0.927 total time=  33.4s\n",
      "[CV 5/5; 24/36] START max_features=sqrt, min_samples_leaf=5, n_estimators=250...\n",
      "[CV 5/5; 24/36] END max_features=sqrt, min_samples_leaf=5, n_estimators=250;, score=0.927 total time=  33.7s\n",
      "[CV 1/5; 25/36] START max_features=log2, min_samples_leaf=1, n_estimators=10....\n",
      "[CV 1/5; 25/36] END max_features=log2, min_samples_leaf=1, n_estimators=10;, score=0.910 total time=   0.7s\n",
      "[CV 2/5; 25/36] START max_features=log2, min_samples_leaf=1, n_estimators=10....\n",
      "[CV 2/5; 25/36] END max_features=log2, min_samples_leaf=1, n_estimators=10;, score=0.914 total time=   0.7s\n",
      "[CV 3/5; 25/36] START max_features=log2, min_samples_leaf=1, n_estimators=10....\n",
      "[CV 3/5; 25/36] END max_features=log2, min_samples_leaf=1, n_estimators=10;, score=0.918 total time=   0.7s\n",
      "[CV 4/5; 25/36] START max_features=log2, min_samples_leaf=1, n_estimators=10....\n",
      "[CV 4/5; 25/36] END max_features=log2, min_samples_leaf=1, n_estimators=10;, score=0.920 total time=   0.7s\n",
      "[CV 5/5; 25/36] START max_features=log2, min_samples_leaf=1, n_estimators=10....\n",
      "[CV 5/5; 25/36] END max_features=log2, min_samples_leaf=1, n_estimators=10;, score=0.915 total time=   0.7s\n",
      "[CV 1/5; 26/36] START max_features=log2, min_samples_leaf=1, n_estimators=50....\n",
      "[CV 1/5; 26/36] END max_features=log2, min_samples_leaf=1, n_estimators=50;, score=0.923 total time=   3.9s\n",
      "[CV 2/5; 26/36] START max_features=log2, min_samples_leaf=1, n_estimators=50....\n",
      "[CV 2/5; 26/36] END max_features=log2, min_samples_leaf=1, n_estimators=50;, score=0.931 total time=   4.0s\n",
      "[CV 3/5; 26/36] START max_features=log2, min_samples_leaf=1, n_estimators=50....\n",
      "[CV 3/5; 26/36] END max_features=log2, min_samples_leaf=1, n_estimators=50;, score=0.934 total time=   3.9s\n",
      "[CV 4/5; 26/36] START max_features=log2, min_samples_leaf=1, n_estimators=50....\n",
      "[CV 4/5; 26/36] END max_features=log2, min_samples_leaf=1, n_estimators=50;, score=0.935 total time=   3.8s\n",
      "[CV 5/5; 26/36] START max_features=log2, min_samples_leaf=1, n_estimators=50....\n",
      "[CV 5/5; 26/36] END max_features=log2, min_samples_leaf=1, n_estimators=50;, score=0.932 total time=   3.8s\n",
      "[CV 1/5; 27/36] START max_features=log2, min_samples_leaf=1, n_estimators=100...\n",
      "[CV 1/5; 27/36] END max_features=log2, min_samples_leaf=1, n_estimators=100;, score=0.928 total time=   8.0s\n",
      "[CV 2/5; 27/36] START max_features=log2, min_samples_leaf=1, n_estimators=100...\n",
      "[CV 2/5; 27/36] END max_features=log2, min_samples_leaf=1, n_estimators=100;, score=0.932 total time=   7.8s\n",
      "[CV 3/5; 27/36] START max_features=log2, min_samples_leaf=1, n_estimators=100...\n",
      "[CV 3/5; 27/36] END max_features=log2, min_samples_leaf=1, n_estimators=100;, score=0.938 total time=   7.9s\n",
      "[CV 4/5; 27/36] START max_features=log2, min_samples_leaf=1, n_estimators=100...\n",
      "[CV 4/5; 27/36] END max_features=log2, min_samples_leaf=1, n_estimators=100;, score=0.937 total time=   7.8s\n",
      "[CV 5/5; 27/36] START max_features=log2, min_samples_leaf=1, n_estimators=100...\n",
      "[CV 5/5; 27/36] END max_features=log2, min_samples_leaf=1, n_estimators=100;, score=0.935 total time=   8.0s\n",
      "[CV 1/5; 28/36] START max_features=log2, min_samples_leaf=1, n_estimators=250...\n",
      "[CV 1/5; 28/36] END max_features=log2, min_samples_leaf=1, n_estimators=250;, score=0.928 total time=  19.6s\n",
      "[CV 2/5; 28/36] START max_features=log2, min_samples_leaf=1, n_estimators=250...\n",
      "[CV 2/5; 28/36] END max_features=log2, min_samples_leaf=1, n_estimators=250;, score=0.933 total time=  19.8s\n",
      "[CV 3/5; 28/36] START max_features=log2, min_samples_leaf=1, n_estimators=250...\n",
      "[CV 3/5; 28/36] END max_features=log2, min_samples_leaf=1, n_estimators=250;, score=0.939 total time=  19.8s\n",
      "[CV 4/5; 28/36] START max_features=log2, min_samples_leaf=1, n_estimators=250...\n",
      "[CV 4/5; 28/36] END max_features=log2, min_samples_leaf=1, n_estimators=250;, score=0.937 total time=  19.9s\n",
      "[CV 5/5; 28/36] START max_features=log2, min_samples_leaf=1, n_estimators=250...\n",
      "[CV 5/5; 28/36] END max_features=log2, min_samples_leaf=1, n_estimators=250;, score=0.936 total time=  19.8s\n",
      "[CV 1/5; 29/36] START max_features=log2, min_samples_leaf=3, n_estimators=10....\n",
      "[CV 1/5; 29/36] END max_features=log2, min_samples_leaf=3, n_estimators=10;, score=0.892 total time=   0.6s\n",
      "[CV 2/5; 29/36] START max_features=log2, min_samples_leaf=3, n_estimators=10....\n",
      "[CV 2/5; 29/36] END max_features=log2, min_samples_leaf=3, n_estimators=10;, score=0.909 total time=   0.6s\n",
      "[CV 3/5; 29/36] START max_features=log2, min_samples_leaf=3, n_estimators=10....\n",
      "[CV 3/5; 29/36] END max_features=log2, min_samples_leaf=3, n_estimators=10;, score=0.907 total time=   0.6s\n",
      "[CV 4/5; 29/36] START max_features=log2, min_samples_leaf=3, n_estimators=10....\n",
      "[CV 4/5; 29/36] END max_features=log2, min_samples_leaf=3, n_estimators=10;, score=0.910 total time=   0.6s\n",
      "[CV 5/5; 29/36] START max_features=log2, min_samples_leaf=3, n_estimators=10....\n",
      "[CV 5/5; 29/36] END max_features=log2, min_samples_leaf=3, n_estimators=10;, score=0.908 total time=   0.6s\n",
      "[CV 1/5; 30/36] START max_features=log2, min_samples_leaf=3, n_estimators=50....\n",
      "[CV 1/5; 30/36] END max_features=log2, min_samples_leaf=3, n_estimators=50;, score=0.906 total time=   3.3s\n",
      "[CV 2/5; 30/36] START max_features=log2, min_samples_leaf=3, n_estimators=50....\n",
      "[CV 2/5; 30/36] END max_features=log2, min_samples_leaf=3, n_estimators=50;, score=0.913 total time=   3.5s\n",
      "[CV 3/5; 30/36] START max_features=log2, min_samples_leaf=3, n_estimators=50....\n"
     ]
    },
    {
     "name": "stdout",
     "output_type": "stream",
     "text": [
      "[CV 3/5; 30/36] END max_features=log2, min_samples_leaf=3, n_estimators=50;, score=0.917 total time=   3.2s\n",
      "[CV 4/5; 30/36] START max_features=log2, min_samples_leaf=3, n_estimators=50....\n",
      "[CV 4/5; 30/36] END max_features=log2, min_samples_leaf=3, n_estimators=50;, score=0.915 total time=   3.2s\n",
      "[CV 5/5; 30/36] START max_features=log2, min_samples_leaf=3, n_estimators=50....\n",
      "[CV 5/5; 30/36] END max_features=log2, min_samples_leaf=3, n_estimators=50;, score=0.913 total time=   3.3s\n",
      "[CV 1/5; 31/36] START max_features=log2, min_samples_leaf=3, n_estimators=100...\n",
      "[CV 1/5; 31/36] END max_features=log2, min_samples_leaf=3, n_estimators=100;, score=0.906 total time=   6.6s\n",
      "[CV 2/5; 31/36] START max_features=log2, min_samples_leaf=3, n_estimators=100...\n",
      "[CV 2/5; 31/36] END max_features=log2, min_samples_leaf=3, n_estimators=100;, score=0.915 total time=   6.6s\n",
      "[CV 3/5; 31/36] START max_features=log2, min_samples_leaf=3, n_estimators=100...\n",
      "[CV 3/5; 31/36] END max_features=log2, min_samples_leaf=3, n_estimators=100;, score=0.920 total time=   6.5s\n",
      "[CV 4/5; 31/36] START max_features=log2, min_samples_leaf=3, n_estimators=100...\n",
      "[CV 4/5; 31/36] END max_features=log2, min_samples_leaf=3, n_estimators=100;, score=0.917 total time=   6.6s\n",
      "[CV 5/5; 31/36] START max_features=log2, min_samples_leaf=3, n_estimators=100...\n",
      "[CV 5/5; 31/36] END max_features=log2, min_samples_leaf=3, n_estimators=100;, score=0.914 total time=   6.6s\n",
      "[CV 1/5; 32/36] START max_features=log2, min_samples_leaf=3, n_estimators=250...\n",
      "[CV 1/5; 32/36] END max_features=log2, min_samples_leaf=3, n_estimators=250;, score=0.907 total time=  16.5s\n",
      "[CV 2/5; 32/36] START max_features=log2, min_samples_leaf=3, n_estimators=250...\n",
      "[CV 2/5; 32/36] END max_features=log2, min_samples_leaf=3, n_estimators=250;, score=0.914 total time=  16.6s\n",
      "[CV 3/5; 32/36] START max_features=log2, min_samples_leaf=3, n_estimators=250...\n",
      "[CV 3/5; 32/36] END max_features=log2, min_samples_leaf=3, n_estimators=250;, score=0.921 total time=  16.6s\n",
      "[CV 4/5; 32/36] START max_features=log2, min_samples_leaf=3, n_estimators=250...\n",
      "[CV 4/5; 32/36] END max_features=log2, min_samples_leaf=3, n_estimators=250;, score=0.915 total time=  16.8s\n",
      "[CV 5/5; 32/36] START max_features=log2, min_samples_leaf=3, n_estimators=250...\n",
      "[CV 5/5; 32/36] END max_features=log2, min_samples_leaf=3, n_estimators=250;, score=0.914 total time=  16.7s\n",
      "[CV 1/5; 33/36] START max_features=log2, min_samples_leaf=5, n_estimators=10....\n",
      "[CV 1/5; 33/36] END max_features=log2, min_samples_leaf=5, n_estimators=10;, score=0.886 total time=   0.6s\n",
      "[CV 2/5; 33/36] START max_features=log2, min_samples_leaf=5, n_estimators=10....\n",
      "[CV 2/5; 33/36] END max_features=log2, min_samples_leaf=5, n_estimators=10;, score=0.899 total time=   0.6s\n",
      "[CV 3/5; 33/36] START max_features=log2, min_samples_leaf=5, n_estimators=10....\n",
      "[CV 3/5; 33/36] END max_features=log2, min_samples_leaf=5, n_estimators=10;, score=0.908 total time=   0.6s\n",
      "[CV 4/5; 33/36] START max_features=log2, min_samples_leaf=5, n_estimators=10....\n",
      "[CV 4/5; 33/36] END max_features=log2, min_samples_leaf=5, n_estimators=10;, score=0.897 total time=   0.6s\n",
      "[CV 5/5; 33/36] START max_features=log2, min_samples_leaf=5, n_estimators=10....\n",
      "[CV 5/5; 33/36] END max_features=log2, min_samples_leaf=5, n_estimators=10;, score=0.895 total time=   0.6s\n",
      "[CV 1/5; 34/36] START max_features=log2, min_samples_leaf=5, n_estimators=50....\n",
      "[CV 1/5; 34/36] END max_features=log2, min_samples_leaf=5, n_estimators=50;, score=0.894 total time=   3.0s\n",
      "[CV 2/5; 34/36] START max_features=log2, min_samples_leaf=5, n_estimators=50....\n",
      "[CV 2/5; 34/36] END max_features=log2, min_samples_leaf=5, n_estimators=50;, score=0.902 total time=   3.0s\n",
      "[CV 3/5; 34/36] START max_features=log2, min_samples_leaf=5, n_estimators=50....\n",
      "[CV 3/5; 34/36] END max_features=log2, min_samples_leaf=5, n_estimators=50;, score=0.909 total time=   3.0s\n",
      "[CV 4/5; 34/36] START max_features=log2, min_samples_leaf=5, n_estimators=50....\n",
      "[CV 4/5; 34/36] END max_features=log2, min_samples_leaf=5, n_estimators=50;, score=0.903 total time=   3.2s\n",
      "[CV 5/5; 34/36] START max_features=log2, min_samples_leaf=5, n_estimators=50....\n",
      "[CV 5/5; 34/36] END max_features=log2, min_samples_leaf=5, n_estimators=50;, score=0.902 total time=   3.1s\n",
      "[CV 1/5; 35/36] START max_features=log2, min_samples_leaf=5, n_estimators=100...\n",
      "[CV 1/5; 35/36] END max_features=log2, min_samples_leaf=5, n_estimators=100;, score=0.896 total time=   6.1s\n",
      "[CV 2/5; 35/36] START max_features=log2, min_samples_leaf=5, n_estimators=100...\n",
      "[CV 2/5; 35/36] END max_features=log2, min_samples_leaf=5, n_estimators=100;, score=0.905 total time=   6.3s\n",
      "[CV 3/5; 35/36] START max_features=log2, min_samples_leaf=5, n_estimators=100...\n",
      "[CV 3/5; 35/36] END max_features=log2, min_samples_leaf=5, n_estimators=100;, score=0.910 total time=   6.1s\n",
      "[CV 4/5; 35/36] START max_features=log2, min_samples_leaf=5, n_estimators=100...\n",
      "[CV 4/5; 35/36] END max_features=log2, min_samples_leaf=5, n_estimators=100;, score=0.903 total time=   6.1s\n",
      "[CV 5/5; 35/36] START max_features=log2, min_samples_leaf=5, n_estimators=100...\n",
      "[CV 5/5; 35/36] END max_features=log2, min_samples_leaf=5, n_estimators=100;, score=0.903 total time=   6.2s\n",
      "[CV 1/5; 36/36] START max_features=log2, min_samples_leaf=5, n_estimators=250...\n",
      "[CV 1/5; 36/36] END max_features=log2, min_samples_leaf=5, n_estimators=250;, score=0.896 total time=  15.5s\n",
      "[CV 2/5; 36/36] START max_features=log2, min_samples_leaf=5, n_estimators=250...\n",
      "[CV 2/5; 36/36] END max_features=log2, min_samples_leaf=5, n_estimators=250;, score=0.904 total time=  15.6s\n",
      "[CV 3/5; 36/36] START max_features=log2, min_samples_leaf=5, n_estimators=250...\n",
      "[CV 3/5; 36/36] END max_features=log2, min_samples_leaf=5, n_estimators=250;, score=0.910 total time=  15.8s\n",
      "[CV 4/5; 36/36] START max_features=log2, min_samples_leaf=5, n_estimators=250...\n",
      "[CV 4/5; 36/36] END max_features=log2, min_samples_leaf=5, n_estimators=250;, score=0.906 total time=  15.6s\n",
      "[CV 5/5; 36/36] START max_features=log2, min_samples_leaf=5, n_estimators=250...\n",
      "[CV 5/5; 36/36] END max_features=log2, min_samples_leaf=5, n_estimators=250;, score=0.904 total time=  15.5s\n"
     ]
    },
    {
     "name": "stderr",
     "output_type": "stream",
     "text": [
      "C:\\Users\\aissa\\anaconda3\\lib\\site-packages\\sklearn\\ensemble\\_forest.py:424: FutureWarning: `max_features='auto'` has been deprecated in 1.1 and will be removed in 1.3. To keep the past behaviour, explicitly set `max_features='sqrt'` or remove this parameter as it is also the default value for RandomForestClassifiers and ExtraTreesClassifiers.\n",
      "  warn(\n"
     ]
    }
   ],
   "source": [
    "# Recherche des paramètres optimaux pour le Random Forest avec SearchCridCV\n",
    "\n",
    "from sklearn.model_selection import GridSearchCV\n",
    "\n",
    "param_grid = {\n",
    "    'n_estimators': [10, 50, 100, 250],\n",
    "    'min_samples_leaf': [1, 3, 5],\n",
    "    'max_features': ['auto', 'sqrt', 'log2']\n",
    "}\n",
    "\n",
    "grid_search = GridSearchCV(rf, param_grid, cv=5, scoring='accuracy',verbose=40)\n",
    "\n",
    "grid_search.fit(X_train, y_train)\n",
    "\n",
    "best_params = grid_search.best_params_\n",
    "best_score = grid_search.best_score_"
   ]
  },
  {
   "cell_type": "code",
   "execution_count": 10,
   "id": "79353cdb",
   "metadata": {},
   "outputs": [
    {
     "name": "stdout",
     "output_type": "stream",
     "text": [
      "Meilleurs hyperparamètres :\n",
      "max_features: auto\n",
      "min_samples_leaf: 1\n",
      "n_estimators: 250\n"
     ]
    }
   ],
   "source": [
    "print(\"Meilleurs hyperparamètres :\")\n",
    "for param, value in best_params.items():\n",
    "    print(f\"{param}: {value}\")"
   ]
  },
  {
   "cell_type": "code",
   "execution_count": 11,
   "id": "d29b51dc",
   "metadata": {},
   "outputs": [
    {
     "name": "stderr",
     "output_type": "stream",
     "text": [
      "C:\\Users\\aissa\\anaconda3\\lib\\site-packages\\sklearn\\ensemble\\_forest.py:424: FutureWarning: `max_features='auto'` has been deprecated in 1.1 and will be removed in 1.3. To keep the past behaviour, explicitly set `max_features='sqrt'` or remove this parameter as it is also the default value for RandomForestClassifiers and ExtraTreesClassifiers.\n",
      "  warn(\n"
     ]
    },
    {
     "name": "stdout",
     "output_type": "stream",
     "text": [
      "Accuracy: 0.9449428122897511\n"
     ]
    }
   ],
   "source": [
    "# Entraînement du modèle\n",
    "\n",
    "rf_model = grid_search.best_estimator_\n",
    "\n",
    "rf_model.fit(X_train, y_train)\n",
    "\n",
    "# Évaluation du modèle\n",
    "accuracy = rf_model.score(X_test, y_test)\n",
    "print(\"Accuracy:\", accuracy)"
   ]
  },
  {
   "cell_type": "code",
   "execution_count": 12,
   "id": "88a9fae6",
   "metadata": {},
   "outputs": [
    {
     "name": "stdout",
     "output_type": "stream",
     "text": [
      "              precision    recall  f1-score   support\n",
      "\n",
      "       False       0.93      0.97      0.95      4468\n",
      "        True       0.97      0.92      0.94      4450\n",
      "\n",
      "    accuracy                           0.94      8918\n",
      "   macro avg       0.95      0.94      0.94      8918\n",
      "weighted avg       0.95      0.94      0.94      8918\n",
      "\n"
     ]
    }
   ],
   "source": [
    "from sklearn.metrics import classification_report\n",
    "\n",
    "y_pred = rf_model.predict(X_test)\n",
    "\n",
    "report = classification_report(y_test, y_pred)\n",
    "\n",
    "print(report)"
   ]
  },
  {
   "cell_type": "code",
   "execution_count": 13,
   "id": "f17d5197",
   "metadata": {},
   "outputs": [
    {
     "data": {
      "image/png": "[encoded data removed]",
      "text/plain": [
       "<Figure size 640x480 with 2 Axes>"
      ]
     },
     "metadata": {},
     "output_type": "display_data"
    }
   ],
   "source": [
    "from sklearn.metrics import confusion_matrix, ConfusionMatrixDisplay\n",
    "\n",
    "y_pred = rf_model.predict(X)\n",
    "\n",
    "# Calcul de la matrice de confusion\n",
    "cm = confusion_matrix(y, y_pred)\n",
    "\n",
    "labels = np.unique(y)\n",
    "disp = ConfusionMatrixDisplay(confusion_matrix=cm, display_labels=labels)\n",
    "disp.plot(cmap='Blues', xticks_rotation='vertical')\n",
    "\n",
    "plt.title('Matrice de confusion')\n",
    "plt.xlabel('Prédiction')\n",
    "plt.ylabel('Vraie étiquette')\n",
    "plt.show()"
   ]
  },
  {
   "cell_type": "code",
   "execution_count": 14,
   "id": "0d60f515",
   "metadata": {},
   "outputs": [
    {
     "data": {
      "text/plain": [
       "['rf_model_malade_no_bg.pkl']"
      ]
     },
     "execution_count": 14,
     "metadata": {},
     "output_type": "execute_result"
    }
   ],
   "source": [
    "import joblib\n",
    "\n",
    "joblib.dump(rf_model, 'rf_model_malade_no_bg.pkl')"
   ]
  },
  {
   "cell_type": "markdown",
   "id": "7b2850e5",
   "metadata": {},
   "source": [
    "## Regression logistique"
   ]
  },
  {
   "cell_type": "code",
   "execution_count": 15,
   "id": "7d07e307",
   "metadata": {},
   "outputs": [
    {
     "name": "stdout",
     "output_type": "stream",
     "text": [
      "Accuracy: 0.7644090603274277\n"
     ]
    },
    {
     "name": "stderr",
     "output_type": "stream",
     "text": [
      "C:\\Users\\aissa\\anaconda3\\lib\\site-packages\\sklearn\\linear_model\\_logistic.py:458: ConvergenceWarning: lbfgs failed to converge (status=1):\n",
      "STOP: TOTAL NO. of ITERATIONS REACHED LIMIT.\n",
      "\n",
      "Increase the number of iterations (max_iter) or scale the data as shown in:\n",
      "    https://scikit-learn.org/stable/modules/preprocessing.html\n",
      "Please also refer to the documentation for alternative solver options:\n",
      "    https://scikit-learn.org/stable/modules/linear_model.html#logistic-regression\n",
      "  n_iter_i = _check_optimize_result(\n"
     ]
    }
   ],
   "source": [
    "from sklearn.linear_model import LogisticRegression\n",
    "\n",
    "# Instanciation de la régression logistique\n",
    "logreg_model = LogisticRegression(random_state=42)\n",
    "\n",
    "# Entraînement du modèle\n",
    "logreg_model.fit(X_train, y_train)\n",
    "\n",
    "# Évaluation du modèle\n",
    "accuracy = logreg_model.score(X_test, y_test)\n",
    "print(\"Accuracy:\", accuracy)"
   ]
  },
  {
   "cell_type": "code",
   "execution_count": 16,
   "id": "cb0c2f96",
   "metadata": {},
   "outputs": [
    {
     "data": {
      "image/png": "[encoded data removed]",
      "text/plain": [
       "<Figure size 640x480 with 2 Axes>"
      ]
     },
     "metadata": {},
     "output_type": "display_data"
    }
   ],
   "source": [
    "y_pred = logreg_model.predict(X)\n",
    "\n",
    "# Calcul de la matrice de confusion\n",
    "cm = confusion_matrix(y, y_pred)\n",
    "\n",
    "labels = np.unique(y)\n",
    "disp = ConfusionMatrixDisplay(confusion_matrix=cm, display_labels=labels)\n",
    "disp.plot(cmap='Blues', xticks_rotation='vertical')\n",
    "\n",
    "plt.title('Matrice de confusion')\n",
    "plt.xlabel('Prédiction')\n",
    "plt.ylabel('Vraie étiquette')\n",
    "plt.show()"
   ]
  },
  {
   "cell_type": "markdown",
   "id": "91203e9c",
   "metadata": {},
   "source": [
    "## Performances du modèle sur les données de test"
   ]
  },
  {
   "cell_type": "code",
   "execution_count": 17,
   "id": "99ea7bd2",
   "metadata": {},
   "outputs": [
    {
     "data": {
      "text/html": [
       "<div>\n",
       "<style scoped>\n",
       "    .dataframe tbody tr th:only-of-type {\n",
       "        vertical-align: middle;\n",
       "    }\n",
       "\n",
       "    .dataframe tbody tr th {\n",
       "        vertical-align: top;\n",
       "    }\n",
       "\n",
       "    .dataframe thead th {\n",
       "        text-align: right;\n",
       "    }\n",
       "</style>\n",
       "<table border=\"1\" class=\"dataframe\">\n",
       "  <thead>\n",
       "    <tr style=\"text-align: right;\">\n",
       "      <th></th>\n",
       "      <th>img_path</th>\n",
       "      <th>espece</th>\n",
       "      <th>malade</th>\n",
       "      <th>nom_maladie</th>\n",
       "    </tr>\n",
       "  </thead>\n",
       "  <tbody>\n",
       "    <tr>\n",
       "      <th>0</th>\n",
       "      <td>C:\\Users\\aissa\\Desktop\\Projet\\dataset_remove_b...</td>\n",
       "      <td>Apple</td>\n",
       "      <td>True</td>\n",
       "      <td>Apple_scab</td>\n",
       "    </tr>\n",
       "    <tr>\n",
       "      <th>1</th>\n",
       "      <td>C:\\Users\\aissa\\Desktop\\Projet\\dataset_remove_b...</td>\n",
       "      <td>Apple</td>\n",
       "      <td>True</td>\n",
       "      <td>Apple_scab</td>\n",
       "    </tr>\n",
       "    <tr>\n",
       "      <th>2</th>\n",
       "      <td>C:\\Users\\aissa\\Desktop\\Projet\\dataset_remove_b...</td>\n",
       "      <td>Apple</td>\n",
       "      <td>True</td>\n",
       "      <td>Apple_scab</td>\n",
       "    </tr>\n",
       "    <tr>\n",
       "      <th>3</th>\n",
       "      <td>C:\\Users\\aissa\\Desktop\\Projet\\dataset_remove_b...</td>\n",
       "      <td>Apple</td>\n",
       "      <td>True</td>\n",
       "      <td>Apple_scab</td>\n",
       "    </tr>\n",
       "    <tr>\n",
       "      <th>4</th>\n",
       "      <td>C:\\Users\\aissa\\Desktop\\Projet\\dataset_remove_b...</td>\n",
       "      <td>Apple</td>\n",
       "      <td>True</td>\n",
       "      <td>Apple_scab</td>\n",
       "    </tr>\n",
       "    <tr>\n",
       "      <th>...</th>\n",
       "      <td>...</td>\n",
       "      <td>...</td>\n",
       "      <td>...</td>\n",
       "      <td>...</td>\n",
       "    </tr>\n",
       "    <tr>\n",
       "      <th>11995</th>\n",
       "      <td>C:\\Users\\aissa\\Desktop\\Projet\\dataset_remove_b...</td>\n",
       "      <td>Tomato</td>\n",
       "      <td>True</td>\n",
       "      <td>Tomato_Yellow_Leaf_Curl_Virus</td>\n",
       "    </tr>\n",
       "    <tr>\n",
       "      <th>11996</th>\n",
       "      <td>C:\\Users\\aissa\\Desktop\\Projet\\dataset_remove_b...</td>\n",
       "      <td>Tomato</td>\n",
       "      <td>True</td>\n",
       "      <td>Tomato_Yellow_Leaf_Curl_Virus</td>\n",
       "    </tr>\n",
       "    <tr>\n",
       "      <th>11997</th>\n",
       "      <td>C:\\Users\\aissa\\Desktop\\Projet\\dataset_remove_b...</td>\n",
       "      <td>Tomato</td>\n",
       "      <td>True</td>\n",
       "      <td>Tomato_Yellow_Leaf_Curl_Virus</td>\n",
       "    </tr>\n",
       "    <tr>\n",
       "      <th>11998</th>\n",
       "      <td>C:\\Users\\aissa\\Desktop\\Projet\\dataset_remove_b...</td>\n",
       "      <td>Tomato</td>\n",
       "      <td>True</td>\n",
       "      <td>Tomato_Yellow_Leaf_Curl_Virus</td>\n",
       "    </tr>\n",
       "    <tr>\n",
       "      <th>11999</th>\n",
       "      <td>C:\\Users\\aissa\\Desktop\\Projet\\dataset_remove_b...</td>\n",
       "      <td>Tomato</td>\n",
       "      <td>True</td>\n",
       "      <td>Tomato_Yellow_Leaf_Curl_Virus</td>\n",
       "    </tr>\n",
       "  </tbody>\n",
       "</table>\n",
       "<p>12000 rows × 4 columns</p>\n",
       "</div>"
      ],
      "text/plain": [
       "                                                img_path  espece  malade  \\\n",
       "0      C:\\Users\\aissa\\Desktop\\Projet\\dataset_remove_b...   Apple    True   \n",
       "1      C:\\Users\\aissa\\Desktop\\Projet\\dataset_remove_b...   Apple    True   \n",
       "2      C:\\Users\\aissa\\Desktop\\Projet\\dataset_remove_b...   Apple    True   \n",
       "3      C:\\Users\\aissa\\Desktop\\Projet\\dataset_remove_b...   Apple    True   \n",
       "4      C:\\Users\\aissa\\Desktop\\Projet\\dataset_remove_b...   Apple    True   \n",
       "...                                                  ...     ...     ...   \n",
       "11995  C:\\Users\\aissa\\Desktop\\Projet\\dataset_remove_b...  Tomato    True   \n",
       "11996  C:\\Users\\aissa\\Desktop\\Projet\\dataset_remove_b...  Tomato    True   \n",
       "11997  C:\\Users\\aissa\\Desktop\\Projet\\dataset_remove_b...  Tomato    True   \n",
       "11998  C:\\Users\\aissa\\Desktop\\Projet\\dataset_remove_b...  Tomato    True   \n",
       "11999  C:\\Users\\aissa\\Desktop\\Projet\\dataset_remove_b...  Tomato    True   \n",
       "\n",
       "                         nom_maladie  \n",
       "0                         Apple_scab  \n",
       "1                         Apple_scab  \n",
       "2                         Apple_scab  \n",
       "3                         Apple_scab  \n",
       "4                         Apple_scab  \n",
       "...                              ...  \n",
       "11995  Tomato_Yellow_Leaf_Curl_Virus  \n",
       "11996  Tomato_Yellow_Leaf_Curl_Virus  \n",
       "11997  Tomato_Yellow_Leaf_Curl_Virus  \n",
       "11998  Tomato_Yellow_Leaf_Curl_Virus  \n",
       "11999  Tomato_Yellow_Leaf_Curl_Virus  \n",
       "\n",
       "[12000 rows x 4 columns]"
      ]
     },
     "execution_count": 17,
     "metadata": {},
     "output_type": "execute_result"
    }
   ],
   "source": [
    "data_no_bg_test = pd.read_csv('data_no_bg_test.csv')\n",
    "\n",
    "data_no_bg_test"
   ]
  },
  {
   "cell_type": "code",
   "execution_count": 18,
   "id": "cee5dd41",
   "metadata": {},
   "outputs": [],
   "source": [
    "X_test = []\n",
    "y_test = []\n",
    "\n",
    "for img_path, label in zip(data_no_bg_test['img_path'], data_no_bg_test['malade']):\n",
    "    img = cv2.imread(img_path)\n",
    "    features = extract_features(img)  \n",
    "    X_test.append(features)\n",
    "    y_test.append(label)\n",
    "\n",
    "X_test = np.array(X_test)\n",
    "y_test = np.array(y_test)"
   ]
  },
  {
   "cell_type": "code",
   "execution_count": 19,
   "id": "d8825105",
   "metadata": {},
   "outputs": [
    {
     "data": {
      "text/plain": [
       "0.9229166666666667"
      ]
     },
     "execution_count": 19,
     "metadata": {},
     "output_type": "execute_result"
    }
   ],
   "source": [
    "accuracy = rf_model.score(X_test, y_test)\n",
    "\n",
    "accuracy"
   ]
  }
 ],
 "metadata": {
  "kernelspec": {
   "display_name": "Python 3 (ipykernel)",
   "language": "python",
   "name": "python3"
  },
  "language_info": {
   "codemirror_mode": {
    "name": "ipython",
    "version": 3
   },
   "file_extension": ".py",
   "mimetype": "text/x-python",
   "name": "python",
   "nbconvert_exporter": "python",
   "pygments_lexer": "ipython3",
   "version": "3.10.9"
  }
 },
 "nbformat": 4,
 "nbformat_minor": 5
}
